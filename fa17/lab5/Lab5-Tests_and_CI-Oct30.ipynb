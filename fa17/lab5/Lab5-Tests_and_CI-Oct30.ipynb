{
 "cells": [
  {
   "cell_type": "markdown",
   "metadata": {},
   "source": [
    "## WGP Followup - Variability\n",
    "The purpose of this lab will be to continue on with the follow-up rounds of the Water Guard Promotion study.  We will also continue look at the Water Quality variables because they are continuous variables. \n",
    "\n",
    "We should program the following\n",
    "1. Graphing Data ?  Whisker Plot?\n",
    "2. Variance - Standard Error - Z score\n",
    "3. Confidence Interval\n",
    "4. Hypothesis test ( and its ensuing CI etc) \n",
    "\n",
    "\n"
   ]
  },
  {
   "cell_type": "code",
   "execution_count": null,
   "metadata": {
    "collapsed": true
   },
   "outputs": [],
   "source": [
    "# run this cell - obligatory imports in every file\n",
    "from datascience import *\n",
    "import pandas as pd\n",
    "from pandas import read_stata\n",
    "import numpy as np\n",
    "%matplotlib inline\n",
    "import matplotlib.pyplot as plt\n",
    "\n",
    "plt.style.use('fivethirtyeight')\n",
    "from pylab import plot, show, savefig, xlim, figure, \\\n",
    "                hold, ylim, legend, boxplot, setp, axes"
   ]
  },
  {
   "cell_type": "code",
   "execution_count": null,
   "metadata": {
    "collapsed": true
   },
   "outputs": [],
   "source": [
    "# read in stata data set using pandas ( pd) \n",
    "#pd.read_stata('stata.dta')\n",
    "#pd.read_stata('bwm_child_EVDvars.dta')\n",
    "WGP3rds_df = pd.DataFrame(pd.read_stata('WGP_3waves_Data8.dta'))\n",
    "WGP3rds_table= Table.from_df(WGP3rds_df)\n",
    "#WGP_df.head(10)"
   ]
  },
  {
   "cell_type": "markdown",
   "metadata": {},
   "source": [
    "##### This is a large dataset, basically three datasets merged together, one for baseline, one for short term follow up and one for long term followup\n",
    " - Round = 1 : baseline\n",
    " - Round = 2 : 3 week followup\n",
    " - Round = 3 : 3 month followup\n",
    " \n",
    "For many of the variables they are only asked in one of the three rounds"
   ]
  },
  {
   "cell_type": "markdown",
   "metadata": {},
   "source": [
    "**From Lab 4:**\n",
    " - The variable for self_reported chlorine use was \"c6n\" in Round 2, and 'c5n' in Round 3\n",
    " - The variable for chlorine use is \"c12n21pnk\" in Round 2 and 'c15npt2or1pnk' in Round3\n",
    " \n",
    " \n",
    "** These variables have been combined across rounds for the ease of programming **\n",
    " - 'Selfrptpct' is self reported chlorine use in both round 2 and round 3\n",
    " - 'Vldclpct'  is validated chlorine use in both rounds\n",
    " \n",
    " "
   ]
  },
  {
   "cell_type": "code",
   "execution_count": null,
   "metadata": {
    "collapsed": true
   },
   "outputs": [],
   "source": [
    "# Here is a list of all of the possible categories / columns\n",
    "#list(WGP3rds_df)"
   ]
  },
  {
   "cell_type": "code",
   "execution_count": null,
   "metadata": {},
   "outputs": [],
   "source": [
    "#WGP_baseline.groupby('e1_num_kids_under_5').size()\n",
    "WGP3rds_df.groupby('treatment_arm').size()"
   ]
  },
  {
   "cell_type": "code",
   "execution_count": null,
   "metadata": {},
   "outputs": [],
   "source": [
    "WGP3rds_df.groupby('round').size()"
   ]
  },
  {
   "cell_type": "code",
   "execution_count": null,
   "metadata": {},
   "outputs": [],
   "source": [
    "#  Here is a new way to look at the data - grouping by two variables in Pandas\n",
    "WGP3rds_df.groupby([ 'round', 'treatment_arm',]).size()"
   ]
  },
  {
   "cell_type": "code",
   "execution_count": null,
   "metadata": {},
   "outputs": [],
   "source": [
    "# Which brings us to a new  way to look at the outcome data - grouping by two variables in Pandas an calling for means\n",
    "# Make a smaller df with just the outcome variables\n",
    "WGP_3rds_outcomesonly= pd.DataFrame(WGP3rds_df,columns=['round','treatment_arm','Selfrptpct','Vldclpct'])\n",
    "# Then call for the means\n",
    "WGP_3rds_outcomesonly.groupby([ 'round','treatment_arm']).mean()"
   ]
  },
  {
   "cell_type": "code",
   "execution_count": null,
   "metadata": {},
   "outputs": [],
   "source": [
    "WGPRd2 = WGP3rds_table.where(\"round\",2).select(\"a1_cmpd_id\",\"treatment_arm\",\n",
    "                                           \"c6_current_water_treated_wg\", \n",
    "                                           'c6_curr_water_treat_other_c',\n",
    "                                           'c12_chlorine_meter_reading',\n",
    "                                           'c11_chlorine_color','c12n21pnk', 'c6n'\n",
    "                                          )\n",
    "WGPRd2"
   ]
  },
  {
   "cell_type": "code",
   "execution_count": null,
   "metadata": {
    "collapsed": true
   },
   "outputs": [],
   "source": [
    "# make a pandas dataframe df for Round 2\n",
    "WGP_rnd2df= WGP3rds_df.where(WGP3rds_df['round'] ==2)"
   ]
  },
  {
   "cell_type": "code",
   "execution_count": null,
   "metadata": {},
   "outputs": [],
   "source": [
    "# we can start by looking at the estimate of WG use in Round 2 across all treatment arms ( for the entire sample) \n",
    "np.mean(WGPRd2.column('c12n21pnk'))"
   ]
  },
  {
   "cell_type": "code",
   "execution_count": null,
   "metadata": {},
   "outputs": [],
   "source": [
    "# this is the numpy stadard error\n",
    "np.std(WGPRd2.column('c12n21pnk'))"
   ]
  },
  {
   "cell_type": "code",
   "execution_count": null,
   "metadata": {},
   "outputs": [],
   "source": [
    "\n",
    "# - but we have to correct in this by the square root of the number of observations\n",
    "# which happens in thecase of a proportion of a categorical variable \n",
    "np.std(WGPRd2.column('c12n21pnk'))/WGPRd2.num_rows**0.5"
   ]
  },
  {
   "cell_type": "code",
   "execution_count": null,
   "metadata": {},
   "outputs": [],
   "source": [
    "# Here is the histogram to remind us that our categorical data doesnt look like a bell curve\n",
    "WGPRd2.hist('c12n21pnk')\n"
   ]
  },
  {
   "cell_type": "code",
   "execution_count": null,
   "metadata": {
    "collapsed": true
   },
   "outputs": [],
   "source": [
    "# Compute Standard Error of a proportion\n",
    "# We can do this the first time for the entire sample\n",
    "# Save the followng values\n",
    "p_all=np.mean(WGPRd2.column('c12n21pnk'))\n",
    "N_all=WGPRd2.num_rows"
   ]
  },
  {
   "cell_type": "code",
   "execution_count": null,
   "metadata": {},
   "outputs": [],
   "source": [
    "#  The formula for the SE of a proportion is sqrt((p1(1-p1))/N)\n",
    "se_all=((p_all*(1-p_all))/N_all)**0.5\n",
    "se_all"
   ]
  },
  {
   "cell_type": "code",
   "execution_count": null,
   "metadata": {},
   "outputs": [],
   "source": [
    "# Upper bound of CI\n",
    "# Using Z = 1.96\n",
    "Z=1.96\n",
    "upper_all = p_all+Z*se_all\n",
    "lower_all = p_all-Z*se_all\n",
    "CI_all=(upper_all,lower_all)\n",
    "CI_all"
   ]
  },
  {
   "cell_type": "markdown",
   "metadata": {
    "collapsed": true
   },
   "source": [
    "** Using this technique we can look at the Confidence Intervals for each of the treatment arms **\n"
   ]
  },
  {
   "cell_type": "code",
   "execution_count": null,
   "metadata": {
    "collapsed": true
   },
   "outputs": [],
   "source": []
  },
  {
   "cell_type": "code",
   "execution_count": null,
   "metadata": {},
   "outputs": [],
   "source": [
    "# Here is the code for just arm 1\n",
    "p_1=np.mean(WGPRd2.where(\"treatment_arm\",1).column('c12n21pnk'))\n",
    "N_1=WGPRd2.where(\"treatment_arm\",1).num_rows\n",
    "N_1\n",
    "print(\"In Round 2, the number of households in arm 1 Control is:\", N_1)\n",
    "print(\"The share of households with Validated WG use is: \", p_1)"
   ]
  },
  {
   "cell_type": "code",
   "execution_count": null,
   "metadata": {},
   "outputs": [],
   "source": [
    "se_1=((p_1*(1-p_1))/N_1)**0.5\n",
    "print(\"The standard error of the Validated WG estimate is: \", se_1)"
   ]
  },
  {
   "cell_type": "code",
   "execution_count": null,
   "metadata": {},
   "outputs": [],
   "source": [
    "# Upper bound of CI\n",
    "# Using Z = 1.96\n",
    "Z=1.96\n",
    "upper_1 = p_1+Z*se_1\n",
    "lower_1 = p_1-Z*se_1\n",
    "CI_1=(upper_1,lower_1)\n",
    "print(\"The 95% Confidence Interval for Validated WG use is: \", CI_1)"
   ]
  },
  {
   "cell_type": "markdown",
   "metadata": {},
   "source": [
    "** Repeating for Arm 2 **\n"
   ]
  },
  {
   "cell_type": "code",
   "execution_count": null,
   "metadata": {},
   "outputs": [],
   "source": [
    "# Here is the code for just arm 2\n",
    "p_2=np.mean(WGPRd2.where(\"treatment_arm\",2).column('c12n21pnk'))\n",
    "N_2=WGPRd2.where(\"treatment_arm\",2).num_rows\n",
    "N_2\n",
    "print(\"In Round 2, the number of households in arm 1 Control is:\", N_2)\n",
    "print(\"The share of households with Validated WG use is: \", p_2)\n",
    "se_2=((p_2*(1-p_2))/N_2)**0.5\n",
    "print(\"The standard error of the Validated WG estimate is: \", se_2)\n",
    "# Upper bound of CI\n",
    "# Using Z = 1.96\n",
    "Z=1.96\n",
    "upper_2 = p_2+Z*se_2\n",
    "lower_2 = p_2-Z*se_2\n",
    "CI_2=(upper_2,lower_2)\n",
    "print(\"The 95% Confidence Interval for Validated WG use is: \", CI_2)\n"
   ]
  },
  {
   "cell_type": "markdown",
   "metadata": {},
   "source": [
    "## Question 1.1 - What can we tell by comparing the confidence intervals for Arm 1 and Arm 2.  Do they overlap?  What does that mean?"
   ]
  },
  {
   "cell_type": "markdown",
   "metadata": {},
   "source": [
    "***put your answer here***"
   ]
  },
  {
   "cell_type": "markdown",
   "metadata": {},
   "source": [
    "**Hypothesis test**"
   ]
  },
  {
   "cell_type": "code",
   "execution_count": null,
   "metadata": {},
   "outputs": [],
   "source": [
    "#  Lets test the difference between arm1 and arm 2\n",
    "\n",
    "# The Null Hypotetheis is that the means are the same\n",
    "# So we can test if the difference in means is not =0\n",
    "Difference_1to2 = p_1-p_2\n",
    "print ( \"The difference between Arm 1 and Arm 2  is\",Difference_1to2)\n",
    "\n"
   ]
  },
  {
   "cell_type": "code",
   "execution_count": null,
   "metadata": {},
   "outputs": [],
   "source": [
    "# The formula for this SE is Sqrt( SE_1 + SE_2)\n",
    "se_diff_1to2 = (se_1+se_2)**0.5\n",
    "CI_diff_1to2 = (Difference_1to2+1.96*se_diff_1to2, Difference_1to2-1.96*se_diff_1to2)\n",
    "print(\"The 95% Confidence Interval for Validated WG use is: \", CI_diff_1to2)\n",
    "\n"
   ]
  },
  {
   "cell_type": "code",
   "execution_count": null,
   "metadata": {},
   "outputs": [],
   "source": [
    "# Lets look at the test startistic for the Null Hypothesis\n",
    "Z_diff_1to2 = Difference_1to2/se_diff_1to2\n",
    "print(\"The Test Statistic for the difference between Validated WG use in Arm 1 and Arm2 is: \",Z_diff_1to2)"
   ]
  },
  {
   "cell_type": "markdown",
   "metadata": {},
   "source": [
    "## Question 1.2 - What can we tell by looking at the confidence interval for the difference?  Do they overlap with zero?  Should we reject the null hypothesis? What does this mean?"
   ]
  },
  {
   "cell_type": "markdown",
   "metadata": {},
   "source": [
    "***put your answer here***"
   ]
  },
  {
   "cell_type": "markdown",
   "metadata": {},
   "source": [
    "## Question 1.3 - Propose an additional hypothesis to test with this data?  Program the hypothesis test, difference, and confidence interval"
   ]
  },
  {
   "cell_type": "markdown",
   "metadata": {},
   "source": [
    "***written answer proposing a hypothesis test ***"
   ]
  },
  {
   "cell_type": "code",
   "execution_count": null,
   "metadata": {
    "collapsed": true
   },
   "outputs": [],
   "source": [
    "# coding section"
   ]
  },
  {
   "cell_type": "code",
   "execution_count": null,
   "metadata": {
    "collapsed": true
   },
   "outputs": [],
   "source": [
    "# coding section"
   ]
  },
  {
   "cell_type": "markdown",
   "metadata": {},
   "source": [
    "***written answer discussing outcome ***"
   ]
  },
  {
   "cell_type": "markdown",
   "metadata": {},
   "source": [
    "## Working with Springs Water Quality Data again"
   ]
  },
  {
   "cell_type": "code",
   "execution_count": null,
   "metadata": {},
   "outputs": [],
   "source": [
    "# read in stata data set using pandas ( pd) to dataframe\n",
    "# This is the dataset for water quality testing at springs\n",
    "# From the BiWeekly Monitoring study \n",
    "# The most important variables will be trt_07, and bwm_round and ecmpn1 and tcmpn1\n",
    "BWM_WQ_s = pd.DataFrame(pd.read_stata('WQ_sp_forData8.dta'))\n",
    "# make a datascience table\n",
    "BWM_WQ_spring = Table.from_df(BWM_WQ_s)\n",
    "# make log10 transforms of E coli numbers ( adding columns)\n",
    "BWM_WQ_spring = BWM_WQ_spring.with_column('log10ecmpn1',BWM_WQ_spring.apply(np.log10,'ecmpn1'))\n",
    "BWM_WQ_spring = BWM_WQ_spring.with_column('log10tcmpn1',BWM_WQ_spring.apply(np.log10,'tcmpn1'))\n",
    "BWM_WQ_spring = BWM_WQ_spring.drop(\"dd1\",\"mm1\",\"yy1\",\"chlorine\")\n",
    "BWM_WQ_spring\n"
   ]
  },
  {
   "cell_type": "code",
   "execution_count": null,
   "metadata": {},
   "outputs": [],
   "source": [
    "# This is the mean of the Water Quality Before\n",
    "np.mean(BWM_WQ_spring.where(\"bwm_round\",are.below(6)).column('log10ecmpn1'))"
   ]
  },
  {
   "cell_type": "code",
   "execution_count": null,
   "metadata": {},
   "outputs": [],
   "source": [
    "# This is the mean of Water Quality After\n",
    "np.mean(BWM_WQ_spring.where(\"bwm_round\",are.above(5)).column('log10ecmpn1'))"
   ]
  },
  {
   "cell_type": "code",
   "execution_count": null,
   "metadata": {},
   "outputs": [],
   "source": [
    "# A test of whether water quality changed \n",
    "difference_allsprings = np.mean(BWM_WQ_spring.where(\"bwm_round\",are.below(6)).column('log10ecmpn1'))-np.mean(BWM_WQ_spring.where(\"bwm_round\",are.above(5)).column('log10ecmpn1'))\n",
    "print (\"the difference is\", difference_allsprings)\n",
    "SE_allsprings = np.std(BWM_WQ_spring.column('log10ecmpn1'))\n",
    "print (\"the SE is\", SE_allsprings)\n",
    "Z_allsprings= difference_allsprings /SE_allsprings\n",
    "print (\"the Z score is\", Z_allsprings)"
   ]
  },
  {
   "cell_type": "markdown",
   "metadata": {},
   "source": [
    "## But what kind of Test are we really interested in?\n"
   ]
  },
  {
   "cell_type": "code",
   "execution_count": null,
   "metadata": {},
   "outputs": [],
   "source": [
    "# Mean of WQ at treated springs after\n",
    "np.mean(BWM_WQ_spring.where(\"bwm_round\",are.above(5)).where('trt_07',1).column('log10ecmpn1'))"
   ]
  },
  {
   "cell_type": "code",
   "execution_count": null,
   "metadata": {},
   "outputs": [],
   "source": [
    "# Mean of of WQ at control  springs after\n",
    "np.mean(BWM_WQ_spring.where(\"bwm_round\",are.above(5)).where('trt_07',2).column('log10ecmpn1'))"
   ]
  },
  {
   "cell_type": "code",
   "execution_count": null,
   "metadata": {},
   "outputs": [],
   "source": [
    "np.std (BWM_WQ_spring.where(\"bwm_round\",are.above(5)).column('log10ecmpn1'))"
   ]
  },
  {
   "cell_type": "markdown",
   "metadata": {},
   "source": [
    "## Question 2 - can you construct a hypothesis test of whether the Water Quality is cleaner at protected springs after the spring protection?\n"
   ]
  },
  {
   "cell_type": "code",
   "execution_count": null,
   "metadata": {
    "collapsed": true
   },
   "outputs": [],
   "source": [
    "# Coding section"
   ]
  },
  {
   "cell_type": "code",
   "execution_count": null,
   "metadata": {
    "collapsed": true
   },
   "outputs": [],
   "source": [
    "# Coding section"
   ]
  },
  {
   "cell_type": "code",
   "execution_count": null,
   "metadata": {
    "collapsed": true
   },
   "outputs": [],
   "source": []
  },
  {
   "cell_type": "code",
   "execution_count": null,
   "metadata": {},
   "outputs": [],
   "source": [
    "## lets look at the data graphically \n",
    "BWM_WQ_spring.hist(\"log10ecmpn1\")"
   ]
  },
  {
   "cell_type": "code",
   "execution_count": null,
   "metadata": {},
   "outputs": [],
   "source": [
    "#  We can also look at Four relevant Histograms\n",
    "BWM_WQ_spring.where('bwm_round',are.below(6)).where('trt_07',1).hist(\"log10ecmpn1\")\n",
    "BWM_WQ_spring.where('bwm_round',are.below(6)).where('trt_07',2).hist(\"log10ecmpn1\")\n",
    "BWM_WQ_spring.where('bwm_round',are.above(5)).where('trt_07',1).hist(\"log10ecmpn1\")\n",
    "BWM_WQ_spring.where('bwm_round',are.above(5)).where('trt_07',2).hist(\"log10ecmpn1\")"
   ]
  },
  {
   "cell_type": "markdown",
   "metadata": {},
   "source": [
    "## Question 3.1 - can you discuss how our hypothesis tests relate to these 4 histograms.  Which ones are we comparing and why?"
   ]
  },
  {
   "cell_type": "code",
   "execution_count": null,
   "metadata": {
    "collapsed": true
   },
   "outputs": [],
   "source": [
    "# Here we can do a boxplot graph to compare the Treatment Springs before and After\n",
    "# A boxplot is a common graph that describes the data by quartiles - 25% of the data\n",
    "# The box in the middle displays the middle two quartiles and the red line is the median\n",
    "\n",
    "before_treatment = BWM_WQ_spring.where('bwm_round',are.below(6)).where('trt_07',1).column('log10ecmpn1')\n",
    "after_treatment = BWM_WQ_spring.where('bwm_round',are.above(5)).where('trt_07',1).column('log10ecmpn1')\n"
   ]
  },
  {
   "cell_type": "code",
   "execution_count": null,
   "metadata": {},
   "outputs": [],
   "source": [
    "data = [before_treatment, after_treatment]\n",
    "fig, ax = plt.subplots()\n",
    "ax.set_title('Comparing ECMPN Before and After ')\n",
    "ax.boxplot(data)\n",
    "plt.show()"
   ]
  },
  {
   "cell_type": "markdown",
   "metadata": {},
   "source": [
    "## Question 3 - can you redo this boxplot graph to compare the Treatment Springs after Treatment to the Control Springs after Treatment"
   ]
  },
  {
   "cell_type": "code",
   "execution_count": null,
   "metadata": {
    "collapsed": true
   },
   "outputs": [],
   "source": [
    "#code here for subsetting data"
   ]
  },
  {
   "cell_type": "code",
   "execution_count": null,
   "metadata": {
    "collapsed": true
   },
   "outputs": [],
   "source": [
    "# code here for new boxplot"
   ]
  }
 ],
 "metadata": {
  "kernelspec": {
   "display_name": "Python 3",
   "language": "python",
   "name": "python3"
  },
  "language_info": {
   "codemirror_mode": {
    "name": "ipython",
    "version": 3
   },
   "file_extension": ".py",
   "mimetype": "text/x-python",
   "name": "python",
   "nbconvert_exporter": "python",
   "pygments_lexer": "ipython3",
   "version": "3.6.1"
  }
 },
 "nbformat": 4,
 "nbformat_minor": 2
}
