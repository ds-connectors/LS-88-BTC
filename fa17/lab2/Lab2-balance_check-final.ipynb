{
 "cells": [
  {
   "cell_type": "code",
   "execution_count": null,
   "metadata": {
    "collapsed": true
   },
   "outputs": [],
   "source": [
    "# run this cell - obligatory imports in every file\n",
    "from datascience import *\n",
    "import pandas as pd\n",
    "from pandas import read_stata\n",
    "import numpy as np\n",
    "\n",
    "# A note - throughout the code there are occasionally commands that are not run becauase they \n",
    "# are proceeded by a # sign - but they are left there in case someone wants to remove the # sign\n",
    "# and use the code.  "
   ]
  },
  {
   "cell_type": "markdown",
   "metadata": {},
   "source": [
    "## Baseline Survey \n",
    "This is our first look at a survey dataset.  These are a limited set of questions/answers from a simple and short baseline survey. However it is a lot bigger and messier than the datasets we have been seeing in Data8. Data variable names follow along with the survey below, referred to by the section, a,b,c... number, 1,2,3... and a few words about the question. The purpose of this lab will be to get a familiarity with the dataset, to look at some background descriptor variables of the households, to start to think about missing values and coding of subsets of the data.  The main framework of this Lab is checking the randomization by seeeing if the different arms of the study are balanced across some of the key baseline variables.  \n",
    "\n",
    "## The surveys that illustrate the raw data names are in a Box folder linked here\n",
    "## You have to go and look through this survey to understand the variables\n",
    "https://goo.gl/TzzvLb\n",
    "\n",
    "##  A note on Pandas vs datascience/tables\n",
    "- The main data8 class is taught mostly using a Python package designed specifically for the class called \"datascience\"\n",
    "- A very popular package for statistical analysis is called \"pandas\". \n",
    "- In this Lab, for a few reasons, I have written commands mostly in Pandas\n"
   ]
  },
  {
   "cell_type": "code",
   "execution_count": null,
   "metadata": {
    "collapsed": true
   },
   "outputs": [],
   "source": [
    "# Make it so Pandas can display many columns\n",
    "# there are 200 something columns in this dataset\n",
    "pd.set_option('display.max_columns', 500)"
   ]
  },
  {
   "cell_type": "code",
   "execution_count": null,
   "metadata": {},
   "outputs": [],
   "source": [
    "# read in stata data set using pandas ( pd) \n",
    "#pd.read_stata('stata.dta') is the general command\n",
    "#pd.read_stata('bwm_child_EVDvars.dta') is the specific file we need to have in our folder\n",
    "WGP_baseline = pd.DataFrame(pd.read_stata('WGP_baseline_Data8.dta'))\n",
    "# this creates the pandas dataframe that we will refer to when we run additional commands\n",
    "\n",
    "\n",
    "WGP_baseline\n"
   ]
  },
  {
   "cell_type": "markdown",
   "metadata": {},
   "source": [
    "## Misssing values ~ NaN\n",
    "if you look through the dataset above, and scroll to the right a ways to some of the last variables, you will notice that that there are a lot of cells with NaN, which means a missing value. For these cells no data was entered at the time of data entry. In some cases it may be appropriate to enter a zero and carry on with the analyis.  \n",
    "\n"
   ]
  },
  {
   "cell_type": "code",
   "execution_count": null,
   "metadata": {},
   "outputs": [],
   "source": [
    "# There are a lot of missing values in the data, so we can make a copy of the dataset/dataframe\n",
    "# that has zeros in the place of 'nan' - mising data values\n",
    "WGP_base_dfna=WGP_baseline.fillna(0)\n",
    "# this is a second dataframe that we can call with a different name\n",
    "WGP_base_dfna.head(10)"
   ]
  },
  {
   "cell_type": "code",
   "execution_count": null,
   "metadata": {
    "collapsed": true
   },
   "outputs": [],
   "source": [
    "# Lets make a datascience table at the same time\n",
    "WG_base_table= Table.from_df(WGP_baseline)\n",
    "# this is a table that we can use with the data8/datascience commands\n",
    "#WG_base_table"
   ]
  },
  {
   "cell_type": "code",
   "execution_count": null,
   "metadata": {},
   "outputs": [],
   "source": [
    "# Here is a list of all of the possible categories / columns\n",
    "list(WGP_baseline)\n",
    "# Look at the variable names, and then look at the survey form to find the concordance of codes"
   ]
  },
  {
   "cell_type": "markdown",
   "metadata": {},
   "source": [
    "\n",
    "### Front Page information - A variables\n",
    " - household id, \n",
    " - spring id, \n",
    " - interviewer id\n",
    "\n",
    "\n",
    "### Information about respondent - B variables \n",
    "- tribe\n",
    " - education\n",
    " - age\n",
    " - gender \n",
    " - group membership\n",
    " \n",
    " \n",
    "### Water Guard Use - C variables\n",
    "for Waterguard (WG),(survey questions on other chlorine not in this dataset) \n",
    "\n",
    "- c1a - have you ever heard of WG\n",
    "- c2a - have you ever used WG\n",
    "- c3a - is your water currently treated with WG\n",
    "- c4a - have you used WG in past month\n",
    "\n",
    "\n",
    "\n",
    "### Durable / Capital Goods - D variables\n",
    " - electricity  / latrine / iron roof  ( yes / no) \n",
    " - bicycle/ radio / hoe / beds ( number of items owned)\n",
    " - number of animals (number)\n",
    " \n",
    " \n",
    "### Child Health - E variables\n",
    " -  number of kids under 5 =  e1_num_kids_under_5\n",
    " \n",
    "e2_ This table becomes tricky because it has a different format \n",
    "Each kid in the table is numbered 01, 02 etc\n",
    "and then the subsequent questions keyed to that child number\n",
    "e2e_01_d_diarrhea, e2e_02_d_diarrhea, e2e_03_d_diarrhea\n",
    "for four diseases:\n",
    "\n",
    " - cough\n",
    " - Diarrhea\n",
    " - fever_malaria\n",
    " - vomiting\n",
    " \n",
    "\n",
    "\n",
    " "
   ]
  },
  {
   "cell_type": "code",
   "execution_count": null,
   "metadata": {},
   "outputs": [],
   "source": [
    "# There is an additional variable called treatment arm\n",
    "# Arm 1 is control, and Arms 2-7 are different types of treatment interventions\n",
    "# I will elaborate on these arms more in class, but for now\n",
    "# Arm 1 - Control\n",
    "# Arm 2 - Household Script\n",
    "# Arm 3 - Community Script\n",
    "# Arm 4 - HH + Community Script\n",
    "# Arm 5 - Flat-Fee Promoter + Coupons\n",
    "# Arm 6 - Incentivized Promoter + Coupons\n",
    "# Arm 7 - Incentivized Promoter + Dispenser at Spring\n",
    "\n",
    "#Pandas\n",
    "WGP_baseline.groupby(\"treatment_arm\").size()\n",
    "# This should show us how many households are in each treatment arm\n",
    "\n",
    "#WGP_base_dfna.groupby(\"treatment_arm\").size()\n",
    "\n",
    "#Datascience\n",
    "#WG_base_table.group(\"treatment_arm\")"
   ]
  },
  {
   "cell_type": "code",
   "execution_count": null,
   "metadata": {},
   "outputs": [],
   "source": [
    "# Lets start with on of the b variables, b5_tribe\n",
    "#Pandas\n",
    "WGP_baseline.groupby(\"b5_tribe\").size()\n",
    "#WGP_base_dfna.groupby(\"b5_tribe\").size()\n",
    "#This should show us how many answers for each of the tribe codes.\n",
    "\n",
    "#Datascience\n",
    "#WG_base_table.group(\"b5_tribe\")"
   ]
  },
  {
   "cell_type": "code",
   "execution_count": null,
   "metadata": {},
   "outputs": [],
   "source": [
    "#  But these labels arent super useful, they refer to codes on a codesheet\n",
    "# The code sheet is at https://goo.gl/S5CiDJ\n",
    "# this is how to relabel in Pandas\n",
    "WGP_baseline[\"Tribe\"] = WGP_baseline[\"b5_tribe\"].astype(\"category\")\n",
    "WGP_baseline[\"Tribe\"].cat.categories = [\"Luhya – Samia\", \"Luhya – Nyala\", \"Luhya – Khayo\", \"Luhya – Marachi\", \"Luhya – Other\", \"Luo\", \"Teso\", \"Other\"]\n",
    "WGP_baseline.groupby(\"Tribe\").size()\n",
    "\n",
    "\n"
   ]
  },
  {
   "cell_type": "code",
   "execution_count": null,
   "metadata": {},
   "outputs": [],
   "source": [
    "# Crosstab is a frequency count by category in Pandas\n",
    "pd.crosstab(index=WGP_baseline[\"Tribe\"], columns=\"count\")"
   ]
  },
  {
   "cell_type": "code",
   "execution_count": null,
   "metadata": {},
   "outputs": [],
   "source": [
    "#  Try making a frequency percentage from a oneway crosstab table\n",
    "tribe_tab = pd.crosstab(index=WGP_baseline[\"Tribe\"],columns=\"count\") \n",
    "print  ( tribe_tab.sum(), \"\\n\")  # Sum the counts\n",
    "print (tribe_tab.shape, \"\\n\")   # Check number of rows and cols\n",
    "tribe_tab/tribe_tab.sum()"
   ]
  },
  {
   "cell_type": "code",
   "execution_count": null,
   "metadata": {
    "collapsed": true
   },
   "outputs": [],
   "source": [
    "# This is a command to display only 3 decimal places - useful for percents in next section\n",
    "pd.options.display.float_format = '{:.3f}'.format"
   ]
  },
  {
   "cell_type": "code",
   "execution_count": null,
   "metadata": {},
   "outputs": [],
   "source": [
    "# Next we will move to a balance check - \n",
    "#checking the number in each tribe, looking across the different treatment arms\n",
    "# Simple numberical cross tab of tribe vs treatment arm\n",
    "# This will yield counts of who is in which bin\n",
    "pd.crosstab(WGP_baseline.Tribe,WGP_baseline.treatment_arm, margins=True)"
   ]
  },
  {
   "cell_type": "code",
   "execution_count": null,
   "metadata": {},
   "outputs": [],
   "source": [
    "#This table allows us to check if the tribe composition is balanced across arms \n",
    "#However it is hard to compare because there are different total numbers of HHs in each arm\n",
    "# Percentages would be better\n",
    "# Table of tribe  vs treatment arm but with Percentages\n",
    "tribeVStreatment = pd.crosstab(index=WGP_baseline[\"Tribe\"], \n",
    "                            columns=WGP_baseline[\"treatment_arm\"],\n",
    "                             margins=True)   # Include row and column totals\n",
    "tribeVStreatment/tribeVStreatment.loc[\"All\"]\n"
   ]
  },
  {
   "cell_type": "markdown",
   "metadata": {},
   "source": [
    "## Question 1\n",
    "\n",
    "- 1.1 Explain the previous table clearly and concisely, as if you were explaining it to someone who didnt know the back story\n",
    "- What are the rows, what are the columns, why are we doing this?\n",
    "- 1.2 This is a balance check, where we can check whether each treatment arm has a roughly similar composition.  How does the randomization look?\n",
    "- 1.3 What if you wanted to statistically test whether the arms were balanced? Can you suggest how to do this?"
   ]
  },
  {
   "cell_type": "code",
   "execution_count": null,
   "metadata": {},
   "outputs": [],
   "source": [
    "### Moving on  to  WaterGuard Use\n",
    "WGP_baseline.groupby(\"c2a_wg_used_ever\").size()"
   ]
  },
  {
   "cell_type": "code",
   "execution_count": null,
   "metadata": {},
   "outputs": [],
   "source": [
    "# FWIW Pandas also has a describe command\n",
    "# We havent covered these stats in Data8 yet but they are mostly\n",
    "WGP_baseline['c2a_wg_used_ever'].groupby(WGP_baseline['treatment_arm']).describe()"
   ]
  },
  {
   "cell_type": "code",
   "execution_count": null,
   "metadata": {},
   "outputs": [],
   "source": [
    "#  Make a new column/variable with 1/2 answers translated into Yes/NO\n",
    "WGP_baseline[\"WG Ever Use\"] = WGP_baseline[\"c2a_wg_used_ever\"].astype(\"category\")\n",
    "WGP_baseline[\"WG Ever Use\"].cat.categories = [\"Yes\", \"No\" ]\n",
    "WGP_baseline.groupby(\"WG Ever Use\").size()"
   ]
  },
  {
   "cell_type": "code",
   "execution_count": null,
   "metadata": {},
   "outputs": [],
   "source": [
    "# And the balance check for Water Guard use across Arms \n",
    "#Table of treatment arm vs Water Guard Use but with Percentages\n",
    "WGUsec2VStreatment = pd.crosstab(index=WGP_baseline[\"WG Ever Use\"], \n",
    "                            columns=WGP_baseline[\"treatment_arm\"],\n",
    "                             margins=True)   # Include row and column totals\n",
    "WGUsec2VStreatment/WGUsec2VStreatment.loc[\"All\"]\n",
    "\n"
   ]
  },
  {
   "cell_type": "markdown",
   "metadata": {},
   "source": [
    "##  Question 2\n",
    "- 2.1 Explain the previous table clearly and concisely, as if you were explaining it to someone who didnt know the back story\n",
    "- What are the rows, what are the columns, why are we doing this?\n",
    "- 2.2 Balance Check - How does the randomization look?\n",
    "- 2.3 Why is this table more important than in Question 1?"
   ]
  },
  {
   "cell_type": "code",
   "execution_count": null,
   "metadata": {},
   "outputs": [],
   "source": [
    "# Now lets check and see how many households are currently using WG -\n",
    "# Variable name is c3a_wg_water_currently_treat\n",
    "\n",
    "WGP_baseline.groupby(\"c3a_wg_water_currently_treat\").size()"
   ]
  },
  {
   "cell_type": "code",
   "execution_count": null,
   "metadata": {},
   "outputs": [],
   "source": [
    "# Do you notice a problem here? Look at the total numbers reported in the output above\n",
    "\n",
    "# We can do the same percentage tables for the balance check \n",
    "# but maybe there's a problem?\n",
    "# Table of treatment arm vs Water Guard Use but with Percentages\n",
    "WG_c3VStrt = pd.crosstab(index=WGP_baseline[\"c3a_wg_water_currently_treat\"], \n",
    "                            columns=WGP_baseline[\"treatment_arm\"],\n",
    "                             margins=True)   # Include row and column totals\n",
    "WG_c3VStrt/WG_c3VStrt.loc[\"All\"]\n",
    "# In this case the 1's represent the percent  answering yes, out of all those who answered the question\n"
   ]
  },
  {
   "cell_type": "code",
   "execution_count": null,
   "metadata": {},
   "outputs": [],
   "source": [
    "#Earlier we created a dataset where the missing values \"nan\" were replaced with zeros\n",
    "# If we use this dataset we would have percents over the total population surveyed\n",
    "\n",
    "#Table of treatment arm vs Water Guard Use,  Percentages, with missing values substituted with zeros\n",
    "\n",
    "WG_c3VStrt = pd.crosstab(index=WGP_base_dfna[\"c3a_wg_water_currently_treat\"], \n",
    "                            columns=WGP_base_dfna[\"treatment_arm\"],\n",
    "                             margins=True)   # Include row and column totals\n",
    "WG_c3VStrt/WG_c3VStrt.loc[\"All\"]\n",
    "# In this case the 1's represent the percent  answering yes, out of all those who were surveyed\n"
   ]
  },
  {
   "cell_type": "markdown",
   "metadata": {},
   "source": [
    "## Question 3\n",
    " - 3.1 Discuss the problem with this c3a variable\n",
    " - Discuss why the first table is not representative of the whole sample\n",
    " - 3.2 Compare the percent using WG ( answering 1) in the first table to the second table \n",
    " - 3.3 What can we conclude about the average household's Waterguard use from the second table? \n",
    " "
   ]
  },
  {
   "cell_type": "code",
   "execution_count": null,
   "metadata": {
    "collapsed": true
   },
   "outputs": [],
   "source": [
    "\n",
    "# Lets look across the whole sample at the rest of the chlorine variables\n",
    "# Look at any other of the Chlorine variables?\n",
    "#' c1a_wg_heard_ever',\n",
    "#  'c2a_wg_used_ever',\n",
    "# ' c3a_wg_water_currently_treat',\n",
    "#  'c4a_wg_used_past_month',\n",
    "#  'c5a_wg_received_past_month',\n",
    "\n"
   ]
  },
  {
   "cell_type": "code",
   "execution_count": null,
   "metadata": {},
   "outputs": [],
   "source": [
    "# looking at Household durable goods\n",
    "# For example whether the household has an iron roof\n",
    "WGP_baseline.groupby(\"d11_iron_roof\").size()\n",
    "\n"
   ]
  },
  {
   "cell_type": "code",
   "execution_count": null,
   "metadata": {},
   "outputs": [],
   "source": [
    "# Table of treatment arm vs Iron Roof   with Percentages\n",
    "IronRoofVStreatment = pd.crosstab(index=WGP_baseline[\"d11_iron_roof\"], \n",
    "                            columns=WGP_baseline[\"treatment_arm\"],\n",
    "                             margins=True)   # Include row and column totals\n",
    "IronRoofVStreatment/IronRoofVStreatment.loc[\"All\"]\n",
    "\n"
   ]
  },
  {
   "cell_type": "markdown",
   "metadata": {},
   "source": [
    "\n",
    "## Question 4.1\n",
    " - What would iron roof ( vs thatch roof) be an indicator of? \n",
    " - Write 2-3 sentences discussing the previous table\n",
    " \n",
    "## Question 4.2\n",
    " - Generate the same table for latrines, and write 2-3 sentences to discuss\n",
    " ( insert a new code cell and markdown cell below)\n",
    " \n",
    "## Question 4.3\n",
    " - Explore 3 of the other d variables, to describe the sample population as a whole, ( and not by treatment arm) \n",
    "( insert cells as needed ) \n",
    "\n"
   ]
  },
  {
   "cell_type": "code",
   "execution_count": null,
   "metadata": {},
   "outputs": [],
   "source": [
    "# Child variables e1 and e2\n",
    "WGP_baseline.groupby(\"e1_num_kids_under_5\").size()\n",
    "\n",
    "# or should we use the dataframe with NaN missing values replaced by zeros?\n",
    "#WGP_base_dfna.groupby(\"e1_num_kids_under_5\").size()"
   ]
  },
  {
   "cell_type": "code",
   "execution_count": null,
   "metadata": {},
   "outputs": [],
   "source": [
    "# Look at the child table in the survey\n",
    "# The child table has its own dimension, one entry for each child in the household under 5\n",
    "\n",
    "# For now lets just look at the first child in the survey, who is number 01.\n",
    "#\n",
    "#  for Child Diarrhea  - varname for first child only is e2e_01_d_diarrhea\n",
    "\n",
    "WGP_baseline.groupby(\"e2e_01_d_diarrhea\").size()"
   ]
  },
  {
   "cell_type": "code",
   "execution_count": null,
   "metadata": {},
   "outputs": [],
   "source": [
    "# Table of treatment arm vs Child Diarrhea in kid 1    with Percentages\n",
    "Child1DiarrheaVStreatment = pd.crosstab(index=WGP_baseline[\"e2e_01_d_diarrhea\"], \n",
    "                            columns=WGP_baseline[\"treatment_arm\"],\n",
    "                             margins=True)   # Include row and column totals\n",
    "Child1DiarrheaVStreatment/Child1DiarrheaVStreatment.loc[\"All\"]\n",
    "\n",
    "\n"
   ]
  },
  {
   "cell_type": "markdown",
   "metadata": {},
   "source": [
    "### Question 5\n",
    "- 5.1 Please look up the definition of diarrhea in the survey, what is the specific definition of diarrrhea and what is the time period\n",
    "\n",
    "- 5.2 Of the four diseases tracked what is the most common, what is the least common across the whole sample (again for the first child only)\n",
    "\n",
    "- 5.3 Only looking at the first child is not using all the information. We would want to make a composite variable across all children in the household.  Something like total number of children with diarrhea / total children in household.  And from there to boys with diarrhea, girls with diarrhea, children with multiple diseases, children with single diseases etc.  Please discuss a strategy to program this. Provide code examples if you can, or outline a coding approach with words.  "
   ]
  }
 ],
 "metadata": {
  "kernelspec": {
   "display_name": "Python 3",
   "language": "python",
   "name": "python3"
  },
  "language_info": {
   "codemirror_mode": {
    "name": "ipython",
    "version": 3
   },
   "file_extension": ".py",
   "mimetype": "text/x-python",
   "name": "python",
   "nbconvert_exporter": "python",
   "pygments_lexer": "ipython3",
   "version": "3.6.1"
  }
 },
 "nbformat": 4,
 "nbformat_minor": 2
}
