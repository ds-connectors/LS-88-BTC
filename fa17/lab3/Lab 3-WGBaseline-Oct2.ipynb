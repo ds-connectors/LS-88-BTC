{
 "cells": [
  {
   "cell_type": "markdown",
   "metadata": {},
   "source": [
    "## Lab 3 Transforming Variables\n",
    "The purpose of this lab is to continue to work on transforming variables from raw survey input to a varaiable that is more useful for our analysis.  Putting the data in different forms can make it more useful for making tables and graphs.  \n",
    "\n",
    "- some survey answers are collected as 1=yes and 2=no\n",
    "- some missing data could be recorded as zeros\n",
    "- some information could be collected across columns\n",
    "\n",
    "We will again work with the Water Guard Promotion baseline survey. It is a simple and straightforwards to use as an example, but recognizable to the survey instrument. \n",
    "\n",
    "Please supress the output from the dataframe showing and list of variables for your final output.  \n"
   ]
  },
  {
   "cell_type": "code",
   "execution_count": null,
   "metadata": {
    "collapsed": true
   },
   "outputs": [],
   "source": [
    "# run this cell - obligatory imports in ever file\n",
    "from datascience import *\n",
    "import pandas as pd\n",
    "from pandas import read_stata\n",
    "import numpy as np\n",
    "import matplotlib\n",
    "\n",
    "import matplotlib.pyplot as plots\n",
    "plots.style.use('fivethirtyeight')\n",
    "%matplotlib inline"
   ]
  },
  {
   "cell_type": "code",
   "execution_count": null,
   "metadata": {},
   "outputs": [],
   "source": [
    "# Read in dataset - to Pandas and Tables \n",
    "WGP_baseline = pd.DataFrame(pd.read_stata('WGP_baseline_Data8.dta'))\n",
    "WG_basetable= Table.from_df(WGP_baseline)\n",
    "WG_basetable\n"
   ]
  },
  {
   "cell_type": "code",
   "execution_count": null,
   "metadata": {},
   "outputs": [],
   "source": [
    "# Here is a list of all of the possible variables  / columns\n",
    "list(WGP_baseline)"
   ]
  },
  {
   "cell_type": "code",
   "execution_count": null,
   "metadata": {},
   "outputs": [],
   "source": [
    "# Lets have you describe a household selected at Random\n",
    "#Step-by-step\n",
    "#1) Lets extract the household / compound id into an array\n",
    "hhld_array=WG_basetable.column('a1_cmpd_id')\n",
    "#take a look\n",
    "#hhld_array\n",
    "# 2) take a random household drawn from the array\n",
    "randomhh=np.random.choice(hhld_array)\n",
    "print(\"My randomly chosen household is\" , randomhh)\n",
    "# 3) Look at just that row in the table \n",
    "myhh = WG_basetable.where(\"a1_cmpd_id\",randomhh)\n",
    "myhh"
   ]
  },
  {
   "cell_type": "code",
   "execution_count": null,
   "metadata": {},
   "outputs": [],
   "source": [
    "# Because its Python we can do all these steps in one line!\n",
    "# Lets pick another randomly selected HH\n",
    "myfamily = WG_basetable.where(\"a1_cmpd_id\",np.random.choice(WG_basetable.column('a1_cmpd_id')))\n",
    "myfamily\n"
   ]
  },
  {
   "cell_type": "code",
   "execution_count": null,
   "metadata": {},
   "outputs": [],
   "source": [
    "birthyear=  myfamily.column(\"b3_birth_year\")  # find the variable\n",
    "surveyyear= myfamily.column(\"a5_date_interview_year\") # find the variable\n",
    "agecalc =surveyyear-birthyear  # \n",
    "agecalc"
   ]
  },
  {
   "cell_type": "code",
   "execution_count": null,
   "metadata": {},
   "outputs": [],
   "source": [
    "#  code the answer for Tribe\n",
    "print(\"Survey respondent Tribe\",myfamily.select(\"b5_tribe\"))\n",
    "print(\"Respondent Spouse Tribe\",myfamily.select(\"b7_tribe_spouse\"))"
   ]
  },
  {
   "cell_type": "code",
   "execution_count": null,
   "metadata": {},
   "outputs": [],
   "source": [
    "print(\"Does the household have a latrine?\",myfamily.select(\"d3_latrine\"))"
   ]
  },
  {
   "cell_type": "markdown",
   "metadata": {
    "collapsed": true
   },
   "source": [
    "# Question 1 - Describe your randomly selected household and the respondent who is answering the survey.\n",
    "\n",
    "## Age\n",
    "## Tribe\n",
    "## Education - \n",
    "## Member of any groups b11-b15?\n",
    "## Occupation - \n",
    "## Religion - \n",
    "## A summary of D variables, iron roof, floor materials, latrine, cattle, others..\n",
    "## Have they ever used WG?\n",
    "## Treatment Arm - what was the assignment\n",
    "## How many children do they have  \n",
    "## Gender and Age of children\n",
    "## Have any of the children been sick?\n"
   ]
  },
  {
   "cell_type": "markdown",
   "metadata": {},
   "source": [
    "## Part 2 - Child Table \n",
    "\n",
    "We have a table on children in the household which gives us a background on the burden of disease in the household. \n",
    "\n",
    "The way it is currently coded is that there is an entry for each child under 5, which correspond to the number 01, 02, 03, 04, 05 etc  up to 16\n",
    "\n",
    "Lets look at how many kids are in each family.."
   ]
  },
  {
   "cell_type": "code",
   "execution_count": null,
   "metadata": {},
   "outputs": [],
   "source": [
    "WGP_baseline.groupby('e1_num_kids_under_5').size()"
   ]
  },
  {
   "cell_type": "code",
   "execution_count": null,
   "metadata": {
    "scrolled": true
   },
   "outputs": [],
   "source": [
    "WGP_baseline.hist('e1_num_kids_under_5')"
   ]
  },
  {
   "cell_type": "markdown",
   "metadata": {},
   "source": [
    "## Question 2.1\n",
    "### Describe the information from the table and histogram in the preceding two cells.\n"
   ]
  },
  {
   "cell_type": "code",
   "execution_count": null,
   "metadata": {},
   "outputs": [],
   "source": [
    "#  We can look at the gender of each of the kids in order. This is child 1\n",
    "WGP_baseline.groupby('e2b_01_gender').size()"
   ]
  },
  {
   "cell_type": "code",
   "execution_count": null,
   "metadata": {},
   "outputs": [],
   "source": [
    "# This is child 2 \n",
    "WGP_baseline.groupby('e2b_02_gender').size()"
   ]
  },
  {
   "cell_type": "code",
   "execution_count": null,
   "metadata": {},
   "outputs": [],
   "source": [
    "# Gender of Child 3 \n",
    "WGP_baseline.groupby('e2b_03_gender').size()"
   ]
  },
  {
   "cell_type": "code",
   "execution_count": null,
   "metadata": {},
   "outputs": [],
   "source": [
    "# Make a smaller table with just the first seven children\n",
    "only_gender = WG_basetable.select('e2b_01_gender','e2b_02_gender','e2b_03_gender','e2b_04_gender','e2b_05_gender','e2b_06_gender','e2b_07_gender')\n",
    "only_gender"
   ]
  },
  {
   "cell_type": "code",
   "execution_count": null,
   "metadata": {},
   "outputs": [],
   "source": [
    "# Assuming 1 = boy and 2 = girl\n",
    "\n",
    "boys = 0\n",
    "girls = 0\n",
    "\n",
    "for i in np.arange(only_gender.num_columns):\n",
    "    boys += np.count_nonzero(only_gender.column(i) == 1)\n",
    "    girls += np.count_nonzero(only_gender.column(i) == 2)\n",
    "print('Total number of boys:',boys)\n",
    "print('Total number of girls:',girls) \n",
    "print('Total children:',girls+boys)"
   ]
  },
  {
   "cell_type": "code",
   "execution_count": null,
   "metadata": {},
   "outputs": [],
   "source": [
    "# Now we can make a table for the diarrhea variable\n",
    "\n",
    "only_diarrhea = WG_basetable.select('e2e_01_d_diarrhea','e2e_02_d_diarrhea','e2e_03_d_diarrhea','e2e_04_d_diarrhea','e2e_05_d_diarrhea','e2e_06_d_diarrhea','e2e_07_d_diarrhea')\n",
    "only_diarrhea"
   ]
  },
  {
   "cell_type": "code",
   "execution_count": null,
   "metadata": {},
   "outputs": [],
   "source": [
    "# From which we can get a statistic on the rate of diarrhea in the population\n",
    "# Assuming 1 = diarrhea and 2 = not diarrhea\n",
    "\n",
    "diarrhea = 0\n",
    "\n",
    "for i in np.arange(only_diarrhea.num_columns):\n",
    "    diarrhea += np.count_nonzero(only_diarrhea.column(i) == 1)\n",
    "print('Total number with diarrhea:',diarrhea)\n",
    "print('Percent of children with diarrhea:',round(diarrhea / (girls + boys) * 100,2))"
   ]
  },
  {
   "cell_type": "markdown",
   "metadata": {},
   "source": [
    "## Question 2.2\n",
    "### Redo this same table for the other 3 disease variables to check the prevalence for each. Use the code above and make one cell for each disease"
   ]
  },
  {
   "cell_type": "code",
   "execution_count": null,
   "metadata": {
    "collapsed": true
   },
   "outputs": [],
   "source": [
    "# Redo for the other 3 diseases "
   ]
  },
  {
   "cell_type": "code",
   "execution_count": null,
   "metadata": {
    "collapsed": true
   },
   "outputs": [],
   "source": [
    "#"
   ]
  },
  {
   "cell_type": "code",
   "execution_count": null,
   "metadata": {
    "collapsed": true
   },
   "outputs": [],
   "source": []
  },
  {
   "cell_type": "markdown",
   "metadata": {},
   "source": [
    "## Question 2.3 \n",
    "### Make a table that has all the disease outcomes\n",
    "- With columns for diarrhea, cough, malaria, vomiting\n",
    "- rows for number of children with, and percent\n",
    "### And then write a brief explanation of this table"
   ]
  },
  {
   "cell_type": "markdown",
   "metadata": {},
   "source": [
    "## Question 3\n",
    " - We can look at whether the households in the baseline are in a credit group - like a ROSCA or a merry-go round.  \n",
    " - Lets look at who are in these groups and investigate whether it is interacting with any of the other variables that would reflect on household wealth?\n",
    " - What other variables would be interesting to look at? Please code for two additional variables that you think would be interesting\n",
    " ### Write a short paragraph about how many people are in the survey are in a savings group.  Discuss how this interacts with wealth and education. Are there any indications that household savings group members are more likely to have durable assets, or education, than non-members?\n"
   ]
  },
  {
   "cell_type": "code",
   "execution_count": null,
   "metadata": {},
   "outputs": [],
   "source": [
    "WGP_baseline.groupby('b12_credit_group_member').size()"
   ]
  },
  {
   "cell_type": "code",
   "execution_count": null,
   "metadata": {},
   "outputs": [],
   "source": [
    "WGP_baseline.pivot_table('b12_credit_group_member', 'd11_iron_roof').dropna"
   ]
  },
  {
   "cell_type": "code",
   "execution_count": null,
   "metadata": {},
   "outputs": [],
   "source": [
    "pd.crosstab(WGP_baseline.b12_credit_group_member,WGP_baseline.d11_iron_roof, margins=True)"
   ]
  },
  {
   "cell_type": "code",
   "execution_count": null,
   "metadata": {},
   "outputs": [],
   "source": [
    "# or lets look at it with percentages\n",
    "b12VSd11 = pd.crosstab(index=WGP_baseline[\"b12_credit_group_member\"], \n",
    "                            columns=WGP_baseline[\"d11_iron_roof\"],\n",
    "                             margins=True)   # Include row and column totals\n",
    "b12VSd11/b12VSd11.loc[\"All\"]\n",
    "# are households with an iron roof more or less likely to be in a credit group\n",
    "# are households in a credit group more or less likely to have an iron roof"
   ]
  },
  {
   "cell_type": "code",
   "execution_count": null,
   "metadata": {},
   "outputs": [],
   "source": [
    "# Lets check an interaction with these three variables:\n",
    "#'d10f_sofa_pieces',\n",
    "#'d10g_cattle',\n",
    "#'d10a_bicycle',"
   ]
  },
  {
   "cell_type": "code",
   "execution_count": null,
   "metadata": {},
   "outputs": [],
   "source": [
    "pd.crosstab(WGP_baseline.b12_credit_group_member,WGP_baseline.d10g_cattle, margins=True)"
   ]
  },
  {
   "cell_type": "code",
   "execution_count": null,
   "metadata": {},
   "outputs": [],
   "source": [
    "#d10a_bicycle\n",
    "pd.crosstab(WGP_baseline.b12_credit_group_member,WGP_baseline.d10a_bicycle, margins=True)"
   ]
  },
  {
   "cell_type": "code",
   "execution_count": null,
   "metadata": {},
   "outputs": [],
   "source": [
    "pd.crosstab(WGP_baseline.b12_credit_group_member,WGP_baseline.d10f_sofa_pieces, margins=True)"
   ]
  },
  {
   "cell_type": "code",
   "execution_count": null,
   "metadata": {},
   "outputs": [],
   "source": [
    "#  What about Household Education?\n",
    "WGP_baseline.pivot_table('b12_credit_group_member', 'b9_education').dropna"
   ]
  },
  {
   "cell_type": "code",
   "execution_count": null,
   "metadata": {},
   "outputs": [],
   "source": [
    "WGP_baseline.hist('b9_education')"
   ]
  }
 ],
 "metadata": {
  "kernelspec": {
   "display_name": "Python 3",
   "language": "python",
   "name": "python3"
  },
  "language_info": {
   "codemirror_mode": {
    "name": "ipython",
    "version": 3
   },
   "file_extension": ".py",
   "mimetype": "text/x-python",
   "name": "python",
   "nbconvert_exporter": "python",
   "pygments_lexer": "ipython3",
   "version": "3.6.1"
  }
 },
 "nbformat": 4,
 "nbformat_minor": 2
}
