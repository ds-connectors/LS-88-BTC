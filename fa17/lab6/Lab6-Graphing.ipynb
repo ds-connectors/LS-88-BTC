{
 "cells": [
  {
   "cell_type": "markdown",
   "metadata": {},
   "source": [
    "## WGP Followup \n",
    "### Graphing\n",
    "### Joining\n",
    "### Explanatory Variables\n",
    "\n",
    "This weeks lab has three different components.  \n",
    "\n",
    "1) In the first component we will work on making a make a summary graph for the WGP study. This graph should show the three treatment arms with the levels of our outcomes, and include error bars.  In addition, we can work on customizing and saving our graph.  \n",
    "\n",
    "2) In the second component, we will take the dataset that we have, and break it into the three rounds, and join them back together.  \n",
    "\n",
    "3) Finally, we will start to look at data from the baseline that we had in Lab 3 and work to make an index that describes the houshehold characteristics.  We can also start to look at these variables in relation to our categorical outcome variables.  \n"
   ]
  },
  {
   "cell_type": "code",
   "execution_count": 1,
   "metadata": {
    "collapsed": true
   },
   "outputs": [],
   "source": [
    "# run this cell - obligatory imports in every file\n",
    "from datascience import *\n",
    "import pandas as pd\n",
    "from pandas import read_stata\n",
    "import numpy as np\n",
    "%matplotlib inline\n",
    "import matplotlib.pyplot as plt\n",
    "\n",
    "plt.style.use('fivethirtyeight')\n",
    "from pylab import plot, show, savefig, xlim, figure, \\\n",
    "                hold, ylim, legend, boxplot, setp, axes"
   ]
  },
  {
   "cell_type": "code",
   "execution_count": 3,
   "metadata": {
    "collapsed": true
   },
   "outputs": [],
   "source": [
    "# read in stata data set using pandas ( pd) \n",
    "#pd.read_stata('stata.dta')\n",
    "#pd.read_stata('bwm_child_EVDvars.dta')\n",
    "WGP3rds_df = pd.DataFrame(pd.read_stata('WGP_3rounds_Data8.dta'))\n",
    "WGP3rds_table= Table.from_df(WGP3rds_df)\n",
    "#WGP_df.head(10)"
   ]
  },
  {
   "cell_type": "code",
   "execution_count": 4,
   "metadata": {},
   "outputs": [
    {
     "data": {
      "text/html": [
       "<table border=\"1\" class=\"dataframe\">\n",
       "    <thead>\n",
       "        <tr>\n",
       "            <th>a1_cmpd_id</th> <th>treatment_arm</th> <th>Selfrptpct</th> <th>Vldclpct</th>\n",
       "        </tr>\n",
       "    </thead>\n",
       "    <tbody>\n",
       "        <tr>\n",
       "            <td>515520    </td> <td>1            </td> <td>0         </td> <td>0       </td>\n",
       "        </tr>\n",
       "    </tbody>\n",
       "        <tr>\n",
       "            <td>511903    </td> <td>1            </td> <td>0         </td> <td>0       </td>\n",
       "        </tr>\n",
       "    </tbody>\n",
       "        <tr>\n",
       "            <td>501212    </td> <td>1            </td> <td>0         </td> <td>0       </td>\n",
       "        </tr>\n",
       "    </tbody>\n",
       "        <tr>\n",
       "            <td>518908    </td> <td>1            </td> <td>0         </td> <td>0       </td>\n",
       "        </tr>\n",
       "    </tbody>\n",
       "        <tr>\n",
       "            <td>511914    </td> <td>1            </td> <td>0         </td> <td>0       </td>\n",
       "        </tr>\n",
       "    </tbody>\n",
       "        <tr>\n",
       "            <td>507017    </td> <td>1            </td> <td>0         </td> <td>0       </td>\n",
       "        </tr>\n",
       "    </tbody>\n",
       "        <tr>\n",
       "            <td>508517    </td> <td>1            </td> <td>0         </td> <td>0       </td>\n",
       "        </tr>\n",
       "    </tbody>\n",
       "        <tr>\n",
       "            <td>500436    </td> <td>1            </td> <td>100       </td> <td>100     </td>\n",
       "        </tr>\n",
       "    </tbody>\n",
       "        <tr>\n",
       "            <td>501216    </td> <td>1            </td> <td>0         </td> <td>0       </td>\n",
       "        </tr>\n",
       "    </tbody>\n",
       "        <tr>\n",
       "            <td>516119    </td> <td>1            </td> <td>0         </td> <td>0       </td>\n",
       "        </tr>\n",
       "    </tbody>\n",
       "</table>\n",
       "<p>... (1577 rows omitted)</p"
      ],
      "text/plain": [
       "a1_cmpd_id | treatment_arm | Selfrptpct | Vldclpct\n",
       "515520     | 1             | 0          | 0\n",
       "511903     | 1             | 0          | 0\n",
       "501212     | 1             | 0          | 0\n",
       "518908     | 1             | 0          | 0\n",
       "511914     | 1             | 0          | 0\n",
       "507017     | 1             | 0          | 0\n",
       "508517     | 1             | 0          | 0\n",
       "500436     | 1             | 100        | 100\n",
       "501216     | 1             | 0          | 0\n",
       "516119     | 1             | 0          | 0\n",
       "... (1577 rows omitted)"
      ]
     },
     "execution_count": 4,
     "metadata": {},
     "output_type": "execute_result"
    }
   ],
   "source": [
    "WGPRd2 = WGP3rds_table.where(\"round\",2).select(\"a1_cmpd_id\",'treatment_arm','Selfrptpct', 'Vldclpct')\n",
    "WGPRd2"
   ]
  },
  {
   "cell_type": "code",
   "execution_count": 5,
   "metadata": {},
   "outputs": [
    {
     "data": {
      "text/html": [
       "<table border=\"1\" class=\"dataframe\">\n",
       "    <thead>\n",
       "        <tr>\n",
       "            <th>treatment_arm</th> <th>a1_cmpd_id mean</th> <th>Selfrptpct mean</th> <th>Vldclpct mean</th>\n",
       "        </tr>\n",
       "    </thead>\n",
       "    <tbody>\n",
       "        <tr>\n",
       "            <td>1            </td> <td>508712         </td> <td>5.91716        </td> <td>3.5503       </td>\n",
       "        </tr>\n",
       "    </tbody>\n",
       "        <tr>\n",
       "            <td>2            </td> <td>509444         </td> <td>13.1313        </td> <td>5.05051      </td>\n",
       "        </tr>\n",
       "    </tbody>\n",
       "        <tr>\n",
       "            <td>3            </td> <td>469899         </td> <td>18             </td> <td>10.6667      </td>\n",
       "        </tr>\n",
       "    </tbody>\n",
       "        <tr>\n",
       "            <td>4            </td> <td>470342         </td> <td>16.0377        </td> <td>12.2642      </td>\n",
       "        </tr>\n",
       "    </tbody>\n",
       "        <tr>\n",
       "            <td>5            </td> <td>490193         </td> <td>58.7349        </td> <td>40.9639      </td>\n",
       "        </tr>\n",
       "    </tbody>\n",
       "        <tr>\n",
       "            <td>6            </td> <td>443467         </td> <td>57.8652        </td> <td>38.2022      </td>\n",
       "        </tr>\n",
       "    </tbody>\n",
       "        <tr>\n",
       "            <td>7            </td> <td>508978         </td> <td>67.4667        </td> <td>37.8667      </td>\n",
       "        </tr>\n",
       "    </tbody>\n",
       "</table>"
      ],
      "text/plain": [
       "treatment_arm | a1_cmpd_id mean | Selfrptpct mean | Vldclpct mean\n",
       "1             | 508712          | 5.91716         | 3.5503\n",
       "2             | 509444          | 13.1313         | 5.05051\n",
       "3             | 469899          | 18              | 10.6667\n",
       "4             | 470342          | 16.0377         | 12.2642\n",
       "5             | 490193          | 58.7349         | 40.9639\n",
       "6             | 443467          | 57.8652         | 38.2022\n",
       "7             | 508978          | 67.4667         | 37.8667"
      ]
     },
     "execution_count": 5,
     "metadata": {},
     "output_type": "execute_result"
    }
   ],
   "source": [
    "# Lets group by treatment_arm take the means of each group\n",
    "# This corresponds to the summary stats in Lab 5\n",
    "round2_means = WGPRd2.group('treatment_arm', np.mean)\n",
    "round2_means"
   ]
  },
  {
   "cell_type": "code",
   "execution_count": 23,
   "metadata": {
    "collapsed": true
   },
   "outputs": [],
   "source": [
    "# We have the means in a table, let's also make an array of these outcomes\n",
    "# Save the means into an array for later use\n",
    "round2_means_self_array = round2_means.column('Selfrptpct mean')\n",
    "round2_means_vld_array = round2_means.column('Vldclpct mean')"
   ]
  },
  {
   "cell_type": "code",
   "execution_count": 7,
   "metadata": {},
   "outputs": [
    {
     "data": {
      "text/html": [
       "<table border=\"1\" class=\"dataframe\">\n",
       "    <thead>\n",
       "        <tr>\n",
       "            <th>treatment_arm</th> <th>a1_cmpd_id std</th> <th>Selfrptpct std</th> <th>Vldclpct std</th>\n",
       "        </tr>\n",
       "    </thead>\n",
       "    <tbody>\n",
       "        <tr>\n",
       "            <td>1            </td> <td>6335.01       </td> <td>23.5946       </td> <td>18.5047     </td>\n",
       "        </tr>\n",
       "    </tbody>\n",
       "        <tr>\n",
       "            <td>2            </td> <td>6609.07       </td> <td>33.7742       </td> <td>21.8985     </td>\n",
       "        </tr>\n",
       "    </tbody>\n",
       "        <tr>\n",
       "            <td>3            </td> <td>118392        </td> <td>38.4187       </td> <td>30.8689     </td>\n",
       "        </tr>\n",
       "    </tbody>\n",
       "        <tr>\n",
       "            <td>4            </td> <td>119225        </td> <td>36.6956       </td> <td>32.8025     </td>\n",
       "        </tr>\n",
       "    </tbody>\n",
       "        <tr>\n",
       "            <td>5            </td> <td>87578.4       </td> <td>49.2311       </td> <td>49.1767     </td>\n",
       "        </tr>\n",
       "    </tbody>\n",
       "        <tr>\n",
       "            <td>6            </td> <td>149421        </td> <td>49.3775       </td> <td>48.5882     </td>\n",
       "        </tr>\n",
       "    </tbody>\n",
       "        <tr>\n",
       "            <td>7            </td> <td>26783.1       </td> <td>46.8499       </td> <td>48.5055     </td>\n",
       "        </tr>\n",
       "    </tbody>\n",
       "</table>"
      ],
      "text/plain": [
       "treatment_arm | a1_cmpd_id std | Selfrptpct std | Vldclpct std\n",
       "1             | 6335.01        | 23.5946        | 18.5047\n",
       "2             | 6609.07        | 33.7742        | 21.8985\n",
       "3             | 118392         | 38.4187        | 30.8689\n",
       "4             | 119225         | 36.6956        | 32.8025\n",
       "5             | 87578.4        | 49.2311        | 49.1767\n",
       "6             | 149421         | 49.3775        | 48.5882\n",
       "7             | 26783.1        | 46.8499        | 48.5055"
      ]
     },
     "execution_count": 7,
     "metadata": {},
     "output_type": "execute_result"
    }
   ],
   "source": [
    "#  Repeat this for the standard deviation\n",
    "round2_stdev = WGPRd2.group('treatment_arm', np.std)\n",
    "round2_stdev"
   ]
  },
  {
   "cell_type": "code",
   "execution_count": 8,
   "metadata": {},
   "outputs": [
    {
     "data": {
      "text/html": [
       "<table border=\"1\" class=\"dataframe\">\n",
       "    <thead>\n",
       "        <tr>\n",
       "            <th>treatment_arm</th> <th>count</th>\n",
       "        </tr>\n",
       "    </thead>\n",
       "    <tbody>\n",
       "        <tr>\n",
       "            <td>1            </td> <td>169  </td>\n",
       "        </tr>\n",
       "    </tbody>\n",
       "        <tr>\n",
       "            <td>2            </td> <td>99   </td>\n",
       "        </tr>\n",
       "    </tbody>\n",
       "        <tr>\n",
       "            <td>3            </td> <td>150  </td>\n",
       "        </tr>\n",
       "    </tbody>\n",
       "        <tr>\n",
       "            <td>4            </td> <td>106  </td>\n",
       "        </tr>\n",
       "    </tbody>\n",
       "        <tr>\n",
       "            <td>5            </td> <td>332  </td>\n",
       "        </tr>\n",
       "    </tbody>\n",
       "        <tr>\n",
       "            <td>6            </td> <td>356  </td>\n",
       "        </tr>\n",
       "    </tbody>\n",
       "        <tr>\n",
       "            <td>7            </td> <td>375  </td>\n",
       "        </tr>\n",
       "    </tbody>\n",
       "</table>"
      ],
      "text/plain": [
       "treatment_arm | count\n",
       "1             | 169\n",
       "2             | 99\n",
       "3             | 150\n",
       "4             | 106\n",
       "5             | 332\n",
       "6             | 356\n",
       "7             | 375"
      ]
     },
     "execution_count": 8,
     "metadata": {},
     "output_type": "execute_result"
    }
   ],
   "source": [
    "# Get the number in each arm for adjusting the SD\n",
    "round2_num= WGPRd2.group('treatment_arm')\n",
    "round2_num"
   ]
  },
  {
   "cell_type": "code",
   "execution_count": 9,
   "metadata": {},
   "outputs": [
    {
     "name": "stdout",
     "output_type": "stream",
     "text": [
      "[ 23.59456062  33.77424622  38.41874695  36.69556427  49.23109436\n",
      "  49.3775177   46.84992981]\n",
      "[169  99 150 106 332 356 375]\n",
      "[ 13.           9.94987437  12.24744871  10.29563014  18.22086716\n",
      "  18.86796226  19.36491673]\n"
     ]
    }
   ],
   "source": [
    "# make an array of standard errors\n",
    "round2_self_stdev_array= round2_stdev.column('Selfrptpct std')\n",
    "print (round2_self_stdev_array)\n",
    "# make an array of numbers n\n",
    "round2_self_num_array = round2_num.column('count')\n",
    "print (round2_self_num_array)\n",
    "# make and array of the square root of n\n",
    "round2_self_sqrtn_array = np.sqrt(round2_self_num_array)\n",
    "print (round2_self_sqrtn_array)"
   ]
  },
  {
   "cell_type": "code",
   "execution_count": 10,
   "metadata": {},
   "outputs": [
    {
     "name": "stdout",
     "output_type": "stream",
     "text": [
      "[ 1.8149662   3.39443946  3.13687755  3.56418828  2.70190732  2.6170032\n",
      "  2.41931997]\n"
     ]
    },
    {
     "data": {
      "text/plain": [
       "array([ 3.6299324 ,  6.78887893,  6.27375511,  7.12837656,  5.40381464,\n",
       "        5.23400641,  4.83863994])"
      ]
     },
     "execution_count": 10,
     "metadata": {},
     "output_type": "execute_result"
    }
   ],
   "source": [
    "# Make the standard error dividing the SD by the square root of n\n",
    "round2_self_se=np.divide(round2_self_stdev_array,round2_self_sqrtn_array)\n",
    "print (round2_self_se)\n",
    "round2_self_2se = round2_self_se*2\n",
    "round2_self_2se"
   ]
  },
  {
   "cell_type": "code",
   "execution_count": 11,
   "metadata": {},
   "outputs": [
    {
     "data": {
      "image/png": "[encoded data removed]",
      "text/plain": [
       "<matplotlib.figure.Figure at 0x10e42c5f8>"
      ]
     },
     "metadata": {},
     "output_type": "display_data"
    }
   ],
   "source": [
    "# first graph - bar chart \n",
    "round2_means.bar('treatment_arm','Selfrptpct mean') "
   ]
  },
  {
   "cell_type": "code",
   "execution_count": 12,
   "metadata": {},
   "outputs": [
    {
     "data": {
      "image/png": "[encoded data removed]",
      "text/plain": [
       "<matplotlib.figure.Figure at 0x10eb23198>"
      ]
     },
     "metadata": {},
     "output_type": "display_data"
    }
   ],
   "source": [
    "# bar chart with both self and validated \n",
    "round2_means.bar('treatment_arm',make_array(2, 3)) "
   ]
  },
  {
   "cell_type": "code",
   "execution_count": 13,
   "metadata": {},
   "outputs": [
    {
     "data": {
      "image/png": "[encoded data removed]",
      "text/plain": [
       "<matplotlib.figure.Figure at 0x10eb81668>"
      ]
     },
     "metadata": {},
     "output_type": "display_data"
    }
   ],
   "source": [
    "# Horizontal Bar Chart \n",
    "round2_means.barh('treatment_arm',make_array(2, 3)) "
   ]
  },
  {
   "cell_type": "code",
   "execution_count": 14,
   "metadata": {},
   "outputs": [
    {
     "data": {
      "image/png": "[encoded data removed]",
      "text/plain": [
       "<matplotlib.figure.Figure at 0x10f428e80>"
      ]
     },
     "metadata": {},
     "output_type": "display_data"
    }
   ],
   "source": [
    "# Let's add in the error bars - adding in yerr= \n",
    "round2_means.bar('treatment_arm','Selfrptpct mean', yerr=round2_self_se) "
   ]
  },
  {
   "cell_type": "code",
   "execution_count": 15,
   "metadata": {},
   "outputs": [
    {
     "data": {
      "image/png": "[encoded data removed]",
      "text/plain": [
       "<matplotlib.figure.Figure at 0x10eb175f8>"
      ]
     },
     "metadata": {},
     "output_type": "display_data"
    }
   ],
   "source": [
    "# Let's add in the error bars - adding in yerr= 2* SE - this would be the 95% Confidence Interval\n",
    "round2_means.bar('treatment_arm','Selfrptpct mean', yerr=round2_self_2se) "
   ]
  },
  {
   "cell_type": "code",
   "execution_count": 17,
   "metadata": {},
   "outputs": [
    {
     "name": "stdout",
     "output_type": "stream",
     "text": [
      "[ 10.5882349   17.1875      11.03448296  13.55932236  47.01986694\n",
      "  49.71590805  72.3837204 ]\n",
      "[ 2.3668229   3.79172392  2.55823952  3.32525612  2.73922802  2.64995204\n",
      "  2.30880556]\n"
     ]
    },
    {
     "data": {
      "text/plain": [
       "array([ 4.73364581,  7.58344784,  5.11647903,  6.65051224,  5.47845605,\n",
       "        5.29990408,  4.61761112])"
      ]
     },
     "execution_count": 17,
     "metadata": {},
     "output_type": "execute_result"
    }
   ],
   "source": [
    "# redoing it for round 3\n",
    "WGPRd3 = WGP3rds_table.where(\"round\",3).select(\"a1_cmpd_id\",'treatment_arm','Selfrptpct', 'Vldclpct')\n",
    "round3_means = WGPRd3.group('treatment_arm', np.mean)\n",
    "\n",
    "# array of means\n",
    "round3_means_array = round3_means.column('Selfrptpct mean')\n",
    "print(round3_means_array)\n",
    "round3_stdev = WGPRd3.group('treatment_arm', np.std)\n",
    "round3_num= WGPRd3.group('treatment_arm')\n",
    "# make an array of standard errors\n",
    "round3_self_stdev_array= round3_stdev.column('Selfrptpct std')\n",
    "round3_self_num_array = round3_num.column('count')\n",
    "round3_self_sqrtn_array = np.sqrt(round2_self_num_array)\n",
    "#print (round2_self_sqrtn_array)\n",
    "round3_self_se=np.divide(round3_self_stdev_array,round3_self_sqrtn_array)\n",
    "print (round3_self_se)\n",
    "round3_self_2se = round3_self_se*2\n",
    "round3_self_2se"
   ]
  },
  {
   "cell_type": "code",
   "execution_count": 18,
   "metadata": {},
   "outputs": [
    {
     "data": {
      "image/png": "[encoded data removed]",
      "text/plain": [
       "<matplotlib.figure.Figure at 0x115217898>"
      ]
     },
     "metadata": {},
     "output_type": "display_data"
    }
   ],
   "source": [
    "# Round 3 Graph\n",
    "round3_means.bar('treatment_arm','Selfrptpct mean', yerr=round3_self_2se) "
   ]
  },
  {
   "cell_type": "markdown",
   "metadata": {},
   "source": [
    "## Question 1 Make another graph \n",
    "Make another graph similar but different to the previous 6 ones above, that \n",
    "- uses the Validated means and Confidence Intervals \n",
    "- looks awesome ( change the colors, choose the orientation, think about what you wish it looked like)\n",
    "- Add a short paragraph of explanation - what can you summarize from looking at the error bars in your graph?"
   ]
  },
  {
   "cell_type": "code",
   "execution_count": 19,
   "metadata": {
    "collapsed": true
   },
   "outputs": [],
   "source": [
    "#  add code here "
   ]
  },
  {
   "cell_type": "markdown",
   "metadata": {},
   "source": [
    "Write a short paragraph explaining and interpereting your graph"
   ]
  },
  {
   "cell_type": "markdown",
   "metadata": {},
   "source": [
    "## Practice with pyplot & Matplotlib"
   ]
  },
  {
   "cell_type": "code",
   "execution_count": 20,
   "metadata": {
    "collapsed": true
   },
   "outputs": [],
   "source": [
    "# This is just to check our inputs in to the more complicated graph in the following cell\n",
    "#print(round2_means_array,round2_self_stderr_array )\n",
    "# Shouldnt be necessary, but in case you have problems"
   ]
  },
  {
   "cell_type": "code",
   "execution_count": 25,
   "metadata": {},
   "outputs": [
    {
     "data": {
      "image/png": "[encoded data removed]",
      "text/plain": [
       "<matplotlib.figure.Figure at 0x115cdddd8>"
      ]
     },
     "metadata": {},
     "output_type": "display_data"
    }
   ],
   "source": [
    "# Now we can make a graph that compares round 2 and round 3 \n",
    "# This is a more complicated graphing using Matplotlib\n",
    "\n",
    "# following from https://matplotlib.org/gallery/api/barchart.html\n",
    "# https://tonysyu.github.io/raw_content/matplotlib-style-gallery/gallery.html\n",
    "#plt.style.use('fivethirtyeight')\n",
    "plt.style.use('classic')\n",
    "\n",
    "N = 7\n",
    "ind = np.arange(N)  # the x locations for the groups\n",
    "width = 0.5       # the width of the bars\n",
    "\n",
    "fig, ax = plt.subplots()\n",
    "rects1 = ax.bar(ind, round2_means_self_array, width, color='g', yerr=round2_self_2se)\n",
    "\n",
    "rects2 = ax.bar(ind + width, round3_means_array, width, color='b', yerr=round3_self_2se)\n",
    "\n",
    "# add some text for labels, title and axes ticks\n",
    "ax.set_ylabel('Percent of HH using WG')\n",
    "ax.set_title('Self reported WG use')\n",
    "ax.set_xlabel('Treatment Arm')\n",
    "ax.set_xticks(ind + width / 2)\n",
    "ax.set_xticklabels(('1', '2', '3', '4', '5', '6','7'))\n",
    "\n",
    "ax.legend((rects1[0], rects2[0])\n",
    "          ,('3 Week Visit', '3 Month Visit')\n",
    "          ,bbox_to_anchor=(0.5, 1.0))\n",
    "\n",
    "plt.savefig(\"test.png\")\n",
    "\n",
    "plt.show()\n"
   ]
  },
  {
   "cell_type": "markdown",
   "metadata": {},
   "source": [
    "## Question 2 Make another Version \n",
    "Make another graph similar but different to the one above, but for Validated\n",
    "- go to the two web links above and read about different themes and settings\n",
    "- change the colors, where the legend boxes are, change the title \n",
    "- change the filename of the saved png file. Import this into a document and write a paragraph explaining the graph and save this file as a separate pdf for submission.  "
   ]
  },
  {
   "cell_type": "code",
   "execution_count": 26,
   "metadata": {
    "collapsed": true
   },
   "outputs": [],
   "source": [
    "# Copy the whole huge plot cell above into this cell before starting to make changes"
   ]
  },
  {
   "cell_type": "code",
   "execution_count": null,
   "metadata": {
    "collapsed": true
   },
   "outputs": [],
   "source": []
  },
  {
   "cell_type": "markdown",
   "metadata": {},
   "source": [
    "##  Part 3  join to make a horizontal dataset\n",
    "- make a separate table for each Round of data (1,2,3) \n",
    "- join them by a1_cmpd_id\n"
   ]
  },
  {
   "cell_type": "code",
   "execution_count": 27,
   "metadata": {},
   "outputs": [
    {
     "data": {
      "text/html": [
       "<table border=\"1\" class=\"dataframe\">\n",
       "    <thead>\n",
       "        <tr>\n",
       "            <th>treatment_arm</th> <th>count</th>\n",
       "        </tr>\n",
       "    </thead>\n",
       "    <tbody>\n",
       "        <tr>\n",
       "            <td>1            </td> <td>137  </td>\n",
       "        </tr>\n",
       "    </tbody>\n",
       "        <tr>\n",
       "            <td>2            </td> <td>118  </td>\n",
       "        </tr>\n",
       "    </tbody>\n",
       "        <tr>\n",
       "            <td>3            </td> <td>115  </td>\n",
       "        </tr>\n",
       "    </tbody>\n",
       "        <tr>\n",
       "            <td>4            </td> <td>120  </td>\n",
       "        </tr>\n",
       "    </tbody>\n",
       "        <tr>\n",
       "            <td>5            </td> <td>341  </td>\n",
       "        </tr>\n",
       "    </tbody>\n",
       "        <tr>\n",
       "            <td>6            </td> <td>337  </td>\n",
       "        </tr>\n",
       "    </tbody>\n",
       "        <tr>\n",
       "            <td>7            </td> <td>335  </td>\n",
       "        </tr>\n",
       "    </tbody>\n",
       "</table>"
      ],
      "text/plain": [
       "treatment_arm | count\n",
       "1             | 137\n",
       "2             | 118\n",
       "3             | 115\n",
       "4             | 120\n",
       "5             | 341\n",
       "6             | 337\n",
       "7             | 335"
      ]
     },
     "execution_count": 27,
     "metadata": {},
     "output_type": "execute_result"
    }
   ],
   "source": [
    "# for now I am leaving all the data in Round 1\n",
    "WGP_Round1 = WGP3rds_table.where(\"round\",1)\n",
    "#WGP_Round1\n",
    "WGP_Round1.group('treatment_arm')"
   ]
  },
  {
   "cell_type": "code",
   "execution_count": 28,
   "metadata": {},
   "outputs": [
    {
     "data": {
      "text/html": [
       "<table border=\"1\" class=\"dataframe\">\n",
       "    <thead>\n",
       "        <tr>\n",
       "            <th>treatment_arm</th> <th>count</th>\n",
       "        </tr>\n",
       "    </thead>\n",
       "    <tbody>\n",
       "        <tr>\n",
       "            <td>1            </td> <td>169  </td>\n",
       "        </tr>\n",
       "    </tbody>\n",
       "        <tr>\n",
       "            <td>2            </td> <td>99   </td>\n",
       "        </tr>\n",
       "    </tbody>\n",
       "        <tr>\n",
       "            <td>3            </td> <td>150  </td>\n",
       "        </tr>\n",
       "    </tbody>\n",
       "        <tr>\n",
       "            <td>4            </td> <td>106  </td>\n",
       "        </tr>\n",
       "    </tbody>\n",
       "        <tr>\n",
       "            <td>5            </td> <td>332  </td>\n",
       "        </tr>\n",
       "    </tbody>\n",
       "        <tr>\n",
       "            <td>6            </td> <td>356  </td>\n",
       "        </tr>\n",
       "    </tbody>\n",
       "        <tr>\n",
       "            <td>7            </td> <td>375  </td>\n",
       "        </tr>\n",
       "    </tbody>\n",
       "</table>"
      ],
      "text/plain": [
       "treatment_arm | count\n",
       "1             | 169\n",
       "2             | 99\n",
       "3             | 150\n",
       "4             | 106\n",
       "5             | 332\n",
       "6             | 356\n",
       "7             | 375"
      ]
     },
     "execution_count": 28,
     "metadata": {},
     "output_type": "execute_result"
    }
   ],
   "source": [
    "# In Round 2 we can just do a subset of the data\n",
    "WGP_Round2 = WGP3rds_table.where(\"round\",2).select(\"a1_cmpd_id\",'treatment_arm','Selfrptpct', 'Vldclpct')\n",
    "#WGP_Round2\n",
    "WGP_Round2.group('treatment_arm')"
   ]
  },
  {
   "cell_type": "code",
   "execution_count": 29,
   "metadata": {},
   "outputs": [
    {
     "data": {
      "text/html": [
       "<table border=\"1\" class=\"dataframe\">\n",
       "    <thead>\n",
       "        <tr>\n",
       "            <th>treatment_arm</th> <th>count</th>\n",
       "        </tr>\n",
       "    </thead>\n",
       "    <tbody>\n",
       "        <tr>\n",
       "            <td>1            </td> <td>170  </td>\n",
       "        </tr>\n",
       "    </tbody>\n",
       "        <tr>\n",
       "            <td>2            </td> <td>128  </td>\n",
       "        </tr>\n",
       "    </tbody>\n",
       "        <tr>\n",
       "            <td>3            </td> <td>145  </td>\n",
       "        </tr>\n",
       "    </tbody>\n",
       "        <tr>\n",
       "            <td>4            </td> <td>118  </td>\n",
       "        </tr>\n",
       "    </tbody>\n",
       "        <tr>\n",
       "            <td>5            </td> <td>302  </td>\n",
       "        </tr>\n",
       "    </tbody>\n",
       "        <tr>\n",
       "            <td>6            </td> <td>352  </td>\n",
       "        </tr>\n",
       "    </tbody>\n",
       "        <tr>\n",
       "            <td>7            </td> <td>344  </td>\n",
       "        </tr>\n",
       "    </tbody>\n",
       "</table>"
      ],
      "text/plain": [
       "treatment_arm | count\n",
       "1             | 170\n",
       "2             | 128\n",
       "3             | 145\n",
       "4             | 118\n",
       "5             | 302\n",
       "6             | 352\n",
       "7             | 344"
      ]
     },
     "execution_count": 29,
     "metadata": {},
     "output_type": "execute_result"
    }
   ],
   "source": [
    "WGP_Round3 = WGP3rds_table.where(\"round\",3).select(\"a1_cmpd_id\",'treatment_arm','Selfrptpct', 'Vldclpct')\n",
    "\n",
    "WGP_Round3.group('treatment_arm')\n",
    "#WGP_Round3.group('Selfrptpct3')"
   ]
  },
  {
   "cell_type": "code",
   "execution_count": 35,
   "metadata": {},
   "outputs": [
    {
     "data": {
      "text/html": [
       "<table border=\"1\" class=\"dataframe\">\n",
       "    <thead>\n",
       "        <tr>\n",
       "            <th>Selfrptpct_2</th> <th>count</th>\n",
       "        </tr>\n",
       "    </thead>\n",
       "    <tbody>\n",
       "        <tr>\n",
       "            <td>0           </td> <td>615  </td>\n",
       "        </tr>\n",
       "    </tbody>\n",
       "        <tr>\n",
       "            <td>100         </td> <td>647  </td>\n",
       "        </tr>\n",
       "    </tbody>\n",
       "</table>"
      ],
      "text/plain": [
       "Selfrptpct_2 | count\n",
       "0            | 615\n",
       "100          | 647"
      ]
     },
     "execution_count": 35,
     "metadata": {},
     "output_type": "execute_result"
    }
   ],
   "source": [
    "# Join Round 1 and 2 using the join command and using the column 'a1_cmpd_id'\n",
    "Table_Round1and2_Wide = WGP_Round1.join('a1_cmpd_id', WGP_Round2)\n",
    "#Table_Round1and2_Wide\n",
    "# When the join finds a column name repeated - it renames it with a _2 subscript\n",
    "\n",
    "Table_Round1and2_Wide.group('Selfrptpct_2')\n"
   ]
  },
  {
   "cell_type": "code",
   "execution_count": 36,
   "metadata": {},
   "outputs": [
    {
     "name": "stdout",
     "output_type": "stream",
     "text": [
      "Selfrptpct_3 | count\n",
      "0            | 575\n",
      "100          | 485\n"
     ]
    }
   ],
   "source": [
    "# Join again with Round 3 data\n",
    "Table_Round123_Wide = Table_Round1and2_Wide.join('a1_cmpd_id', WGP_Round3)\n",
    "Table_Round123_Wide\n",
    "print (Table_Round123_Wide.group('Selfrptpct_3'))\n"
   ]
  },
  {
   "cell_type": "code",
   "execution_count": 37,
   "metadata": {},
   "outputs": [
    {
     "data": {
      "text/html": [
       "<table border=\"1\" class=\"dataframe\">\n",
       "    <thead>\n",
       "        <tr>\n",
       "            <th>treatment_arm</th> <th>count</th>\n",
       "        </tr>\n",
       "    </thead>\n",
       "    <tbody>\n",
       "        <tr>\n",
       "            <td>1            </td> <td>105  </td>\n",
       "        </tr>\n",
       "    </tbody>\n",
       "        <tr>\n",
       "            <td>2            </td> <td>90   </td>\n",
       "        </tr>\n",
       "    </tbody>\n",
       "        <tr>\n",
       "            <td>3            </td> <td>86   </td>\n",
       "        </tr>\n",
       "    </tbody>\n",
       "        <tr>\n",
       "            <td>4            </td> <td>93   </td>\n",
       "        </tr>\n",
       "    </tbody>\n",
       "        <tr>\n",
       "            <td>5            </td> <td>220  </td>\n",
       "        </tr>\n",
       "    </tbody>\n",
       "        <tr>\n",
       "            <td>6            </td> <td>245  </td>\n",
       "        </tr>\n",
       "    </tbody>\n",
       "        <tr>\n",
       "            <td>7            </td> <td>221  </td>\n",
       "        </tr>\n",
       "    </tbody>\n",
       "</table>"
      ],
      "text/plain": [
       "treatment_arm | count\n",
       "1             | 105\n",
       "2             | 90\n",
       "3             | 86\n",
       "4             | 93\n",
       "5             | 220\n",
       "6             | 245\n",
       "7             | 221"
      ]
     },
     "execution_count": 37,
     "metadata": {},
     "output_type": "execute_result"
    }
   ],
   "source": [
    "# This is who we have for all 3 rounds\n",
    "Table_Round123_Wide.group('treatment_arm')"
   ]
  },
  {
   "cell_type": "code",
   "execution_count": 38,
   "metadata": {},
   "outputs": [
    {
     "name": "stdout",
     "output_type": "stream",
     "text": [
      "Selfrptpct_3 | count\n",
      "0            | 575\n",
      "100          | 485\n"
     ]
    },
    {
     "data": {
      "text/html": [
       "<table border=\"1\" class=\"dataframe\">\n",
       "    <thead>\n",
       "        <tr>\n",
       "            <th>Selfrptpct_2</th> <th>0.0</th> <th>100.0</th>\n",
       "        </tr>\n",
       "    </thead>\n",
       "    <tbody>\n",
       "        <tr>\n",
       "            <td>0           </td> <td>401 </td> <td>128  </td>\n",
       "        </tr>\n",
       "    </tbody>\n",
       "        <tr>\n",
       "            <td>100         </td> <td>174 </td> <td>357  </td>\n",
       "        </tr>\n",
       "    </tbody>\n",
       "</table>"
      ],
      "text/plain": [
       "Selfrptpct_2 | 0.0  | 100.0\n",
       "0            | 401  | 128\n",
       "100          | 174  | 357"
      ]
     },
     "execution_count": 38,
     "metadata": {},
     "output_type": "execute_result"
    }
   ],
   "source": [
    "# This table is really interesting - what does it mean?\n",
    "print (Table_Round123_Wide.group('Selfrptpct_3'))\n",
    "Table_Round123_Wide.pivot('Selfrptpct_3','Selfrptpct_2')\n",
    "#Table_Round123_Wide.pivot('Vldclpct_3','Vldclpct_2')"
   ]
  },
  {
   "cell_type": "markdown",
   "metadata": {},
   "source": [
    "## Question 3.1 - discuss the previous table, what does it mean?"
   ]
  },
  {
   "cell_type": "markdown",
   "metadata": {},
   "source": [
    "add your answer here"
   ]
  },
  {
   "cell_type": "code",
   "execution_count": 39,
   "metadata": {},
   "outputs": [
    {
     "data": {
      "text/plain": [
       "array([ 7.,  1.,  4., ...,  4.,  6.,  6.], dtype=float32)"
      ]
     },
     "execution_count": 39,
     "metadata": {},
     "output_type": "execute_result"
    }
   ],
   "source": [
    "# Now we can try to look at baseline explanatory variables how about an Index of durable goods?\n",
    "# It might be worth it to look back at Lab 3 \n",
    "Durable = Table_Round123_Wide.column('d1_concrete_floor')+Table_Round123_Wide.column('d2_elect_d')+Table_Round123_Wide.column('d3_latr_d')+Table_Round123_Wide.column('d10a_bike_d')+Table_Round123_Wide.column('d10b_keros_d')+Table_Round123_Wide.column('d10c_radio_d')+Table_Round123_Wide.column('d10f_sofa_d')+Table_Round123_Wide.column('d11_ironroof_d')\n",
    "Durable"
   ]
  },
  {
   "cell_type": "code",
   "execution_count": 40,
   "metadata": {
    "collapsed": true
   },
   "outputs": [],
   "source": [
    "Table_Round123_Wide.append_column('durable',Durable)\n",
    "#Table_Round123_Wide"
   ]
  },
  {
   "cell_type": "code",
   "execution_count": 41,
   "metadata": {},
   "outputs": [
    {
     "data": {
      "text/html": [
       "<table border=\"1\" class=\"dataframe\">\n",
       "    <thead>\n",
       "        <tr>\n",
       "            <th>durable</th> <th>count</th>\n",
       "        </tr>\n",
       "    </thead>\n",
       "    <tbody>\n",
       "        <tr>\n",
       "            <td>0      </td> <td>15   </td>\n",
       "        </tr>\n",
       "    </tbody>\n",
       "        <tr>\n",
       "            <td>1      </td> <td>59   </td>\n",
       "        </tr>\n",
       "    </tbody>\n",
       "        <tr>\n",
       "            <td>2      </td> <td>111  </td>\n",
       "        </tr>\n",
       "    </tbody>\n",
       "        <tr>\n",
       "            <td>3      </td> <td>195  </td>\n",
       "        </tr>\n",
       "    </tbody>\n",
       "        <tr>\n",
       "            <td>4      </td> <td>244  </td>\n",
       "        </tr>\n",
       "    </tbody>\n",
       "        <tr>\n",
       "            <td>5      </td> <td>245  </td>\n",
       "        </tr>\n",
       "    </tbody>\n",
       "        <tr>\n",
       "            <td>6      </td> <td>151  </td>\n",
       "        </tr>\n",
       "    </tbody>\n",
       "        <tr>\n",
       "            <td>7      </td> <td>35   </td>\n",
       "        </tr>\n",
       "    </tbody>\n",
       "        <tr>\n",
       "            <td>nan    </td> <td>1    </td>\n",
       "        </tr>\n",
       "    </tbody>\n",
       "        <tr>\n",
       "            <td>nan    </td> <td>1    </td>\n",
       "        </tr>\n",
       "    </tbody>\n",
       "        <tr>\n",
       "            <td>nan    </td> <td>1    </td>\n",
       "        </tr>\n",
       "    </tbody>\n",
       "        <tr>\n",
       "            <td>nan    </td> <td>1    </td>\n",
       "        </tr>\n",
       "    </tbody>\n",
       "        <tr>\n",
       "            <td>nan    </td> <td>1    </td>\n",
       "        </tr>\n",
       "    </tbody>\n",
       "</table>"
      ],
      "text/plain": [
       "<IPython.core.display.HTML object>"
      ]
     },
     "metadata": {},
     "output_type": "display_data"
    }
   ],
   "source": [
    "# Uh Oh - There are a bunch of missing variables 'Nan' that will mess up our graphs\n",
    "Table_Round123_Wide.group('durable').show()"
   ]
  },
  {
   "cell_type": "code",
   "execution_count": 42,
   "metadata": {},
   "outputs": [
    {
     "data": {
      "text/html": [
       "<table border=\"1\" class=\"dataframe\">\n",
       "    <thead>\n",
       "        <tr>\n",
       "            <th>durable_nonan</th> <th>count</th>\n",
       "        </tr>\n",
       "    </thead>\n",
       "    <tbody>\n",
       "        <tr>\n",
       "            <td>0            </td> <td>20   </td>\n",
       "        </tr>\n",
       "    </tbody>\n",
       "        <tr>\n",
       "            <td>1            </td> <td>59   </td>\n",
       "        </tr>\n",
       "    </tbody>\n",
       "        <tr>\n",
       "            <td>2            </td> <td>111  </td>\n",
       "        </tr>\n",
       "    </tbody>\n",
       "        <tr>\n",
       "            <td>3            </td> <td>195  </td>\n",
       "        </tr>\n",
       "    </tbody>\n",
       "        <tr>\n",
       "            <td>4            </td> <td>244  </td>\n",
       "        </tr>\n",
       "    </tbody>\n",
       "        <tr>\n",
       "            <td>5            </td> <td>245  </td>\n",
       "        </tr>\n",
       "    </tbody>\n",
       "        <tr>\n",
       "            <td>6            </td> <td>151  </td>\n",
       "        </tr>\n",
       "    </tbody>\n",
       "        <tr>\n",
       "            <td>7            </td> <td>35   </td>\n",
       "        </tr>\n",
       "    </tbody>\n",
       "</table>"
      ],
      "text/plain": [
       "durable_nonan | count\n",
       "0             | 20\n",
       "1             | 59\n",
       "2             | 111\n",
       "3             | 195\n",
       "4             | 244\n",
       "5             | 245\n",
       "6             | 151\n",
       "7             | 35"
      ]
     },
     "execution_count": 42,
     "metadata": {},
     "output_type": "execute_result"
    }
   ],
   "source": [
    "# Lest get rid of the 'nan' and turn those into zeroes\n",
    "Table_Round123_Wide.append_column('durable_nonan',np.nan_to_num(Durable))\n",
    "Table_Round123_Wide.group('durable_nonan')"
   ]
  },
  {
   "cell_type": "code",
   "execution_count": 43,
   "metadata": {},
   "outputs": [
    {
     "data": {
      "image/png": "[encoded data removed]",
      "text/plain": [
       "<matplotlib.figure.Figure at 0x115978710>"
      ]
     },
     "metadata": {},
     "output_type": "display_data"
    }
   ],
   "source": [
    "# Histogram of Durable good composite index ownership\n",
    "# Think about how to interperet this\n",
    "Table_Round123_Wide.hist('durable_nonan', bins=7)"
   ]
  },
  {
   "cell_type": "code",
   "execution_count": 44,
   "metadata": {},
   "outputs": [
    {
     "data": {
      "text/html": [
       "<table border=\"1\" class=\"dataframe\">\n",
       "    <thead>\n",
       "        <tr>\n",
       "            <th>b9_education_nonan</th> <th>count</th>\n",
       "        </tr>\n",
       "    </thead>\n",
       "    <tbody>\n",
       "        <tr>\n",
       "            <td>0                 </td> <td>169  </td>\n",
       "        </tr>\n",
       "    </tbody>\n",
       "        <tr>\n",
       "            <td>1                 </td> <td>12   </td>\n",
       "        </tr>\n",
       "    </tbody>\n",
       "        <tr>\n",
       "            <td>2                 </td> <td>30   </td>\n",
       "        </tr>\n",
       "    </tbody>\n",
       "        <tr>\n",
       "            <td>3                 </td> <td>53   </td>\n",
       "        </tr>\n",
       "    </tbody>\n",
       "        <tr>\n",
       "            <td>4                 </td> <td>65   </td>\n",
       "        </tr>\n",
       "    </tbody>\n",
       "        <tr>\n",
       "            <td>4.5               </td> <td>1    </td>\n",
       "        </tr>\n",
       "    </tbody>\n",
       "        <tr>\n",
       "            <td>5                 </td> <td>89   </td>\n",
       "        </tr>\n",
       "    </tbody>\n",
       "        <tr>\n",
       "            <td>6                 </td> <td>119  </td>\n",
       "        </tr>\n",
       "    </tbody>\n",
       "        <tr>\n",
       "            <td>7                 </td> <td>195  </td>\n",
       "        </tr>\n",
       "    </tbody>\n",
       "        <tr>\n",
       "            <td>8                 </td> <td>179  </td>\n",
       "        </tr>\n",
       "    </tbody>\n",
       "        <tr>\n",
       "            <td>9                 </td> <td>22   </td>\n",
       "        </tr>\n",
       "    </tbody>\n",
       "        <tr>\n",
       "            <td>10                </td> <td>41   </td>\n",
       "        </tr>\n",
       "    </tbody>\n",
       "        <tr>\n",
       "            <td>11                </td> <td>23   </td>\n",
       "        </tr>\n",
       "    </tbody>\n",
       "        <tr>\n",
       "            <td>12                </td> <td>46   </td>\n",
       "        </tr>\n",
       "    </tbody>\n",
       "        <tr>\n",
       "            <td>14                </td> <td>6    </td>\n",
       "        </tr>\n",
       "    </tbody>\n",
       "        <tr>\n",
       "            <td>15                </td> <td>6    </td>\n",
       "        </tr>\n",
       "    </tbody>\n",
       "        <tr>\n",
       "            <td>22                </td> <td>4    </td>\n",
       "        </tr>\n",
       "    </tbody>\n",
       "</table>"
      ],
      "text/plain": [
       "<IPython.core.display.HTML object>"
      ]
     },
     "metadata": {},
     "output_type": "display_data"
    },
    {
     "data": {
      "image/png": "[encoded data removed]",
      "text/plain": [
       "<matplotlib.figure.Figure at 0x115b2feb8>"
      ]
     },
     "metadata": {},
     "output_type": "display_data"
    }
   ],
   "source": [
    "# Lets look at education levels\n",
    "b9_education_array=Table_Round123_Wide.column('b9_education')\n",
    "# There are also nan values that we wil make into zeroes\n",
    "Table_Round123_Wide.append_column('b9_education_nonan',np.nan_to_num(b9_education_array))\n",
    "Table_Round123_Wide.group('b9_education_nonan').show()\n",
    "Table_Round123_Wide.hist('b9_education_nonan')"
   ]
  },
  {
   "cell_type": "code",
   "execution_count": 45,
   "metadata": {},
   "outputs": [
    {
     "data": {
      "text/html": [
       "<table border=\"1\" class=\"dataframe\">\n",
       "    <thead>\n",
       "        <tr>\n",
       "            <th>b3_age_nonan</th> <th>count</th>\n",
       "        </tr>\n",
       "    </thead>\n",
       "    <tbody>\n",
       "        <tr>\n",
       "            <td>0           </td> <td>44   </td>\n",
       "        </tr>\n",
       "    </tbody>\n",
       "        <tr>\n",
       "            <td>15          </td> <td>1    </td>\n",
       "        </tr>\n",
       "    </tbody>\n",
       "        <tr>\n",
       "            <td>16          </td> <td>3    </td>\n",
       "        </tr>\n",
       "    </tbody>\n",
       "        <tr>\n",
       "            <td>17          </td> <td>5    </td>\n",
       "        </tr>\n",
       "    </tbody>\n",
       "        <tr>\n",
       "            <td>18          </td> <td>14   </td>\n",
       "        </tr>\n",
       "    </tbody>\n",
       "        <tr>\n",
       "            <td>19          </td> <td>28   </td>\n",
       "        </tr>\n",
       "    </tbody>\n",
       "        <tr>\n",
       "            <td>20          </td> <td>33   </td>\n",
       "        </tr>\n",
       "    </tbody>\n",
       "        <tr>\n",
       "            <td>21          </td> <td>34   </td>\n",
       "        </tr>\n",
       "    </tbody>\n",
       "        <tr>\n",
       "            <td>22          </td> <td>43   </td>\n",
       "        </tr>\n",
       "    </tbody>\n",
       "        <tr>\n",
       "            <td>23          </td> <td>37   </td>\n",
       "        </tr>\n",
       "    </tbody>\n",
       "</table>\n",
       "<p>... (52 rows omitted)</p"
      ],
      "text/plain": [
       "<IPython.core.display.HTML object>"
      ]
     },
     "metadata": {},
     "output_type": "display_data"
    },
    {
     "data": {
      "image/png": "[encoded data removed]",
      "text/plain": [
       "<matplotlib.figure.Figure at 0x115ff4518>"
      ]
     },
     "metadata": {},
     "output_type": "display_data"
    }
   ],
   "source": [
    "# Finally lets make up an ages variable\n",
    "b3_birth_year_array=Table_Round123_Wide.column('b3_birth_year')\n",
    "# There is a problem with mising values where some ages are 9999\n",
    "# Which is missing value code from Data Entry\n",
    "b3_birth_year_array[b3_birth_year_array>2000]=2008\n",
    "# Lets make the age by subtracting birth year from survey year\n",
    "b3_age_array=2008-b3_birth_year_array\n",
    "Table_Round123_Wide.append_column('b3_age_nonan',np.nan_to_num(b3_age_array))\n",
    "Table_Round123_Wide.group('b3_age_nonan').show(10)\n",
    "Table_Round123_Wide.hist('b3_age_nonan')"
   ]
  },
  {
   "cell_type": "markdown",
   "metadata": {},
   "source": [
    "## Question 3.2 - discuss the previous histograms, write a paragraph\n",
    "- what is the apparent median, and mode\n",
    "- what did replacing missing values with zeroes do\n",
    "- How would we expect these variables to interact with behavior change and technology adoption?"
   ]
  },
  {
   "cell_type": "markdown",
   "metadata": {},
   "source": [
    "## In the next section we will look at histograms of households who use WG vs households who do not use WG - and compare them by the baseline variables that we just created."
   ]
  },
  {
   "cell_type": "code",
   "execution_count": 46,
   "metadata": {},
   "outputs": [
    {
     "name": "stdout",
     "output_type": "stream",
     "text": [
      "Selfrptpct_2 | count\n",
      "0            | 529\n",
      "100          | 531\n"
     ]
    },
    {
     "data": {
      "image/png": "[encoded data removed]",
      "text/plain": [
       "<matplotlib.figure.Figure at 0x115efe6a0>"
      ]
     },
     "metadata": {},
     "output_type": "display_data"
    }
   ],
   "source": [
    "# across all the households in round 2 - it looks like 50% are self reporting use\n",
    "print(Table_Round123_Wide.group('Selfrptpct_2'))\n",
    "# Age vs Self reported use\n",
    "Table_Round123_Wide.hist('b3_age_nonan', group='Selfrptpct_2', side_by_side=True )"
   ]
  },
  {
   "cell_type": "code",
   "execution_count": 47,
   "metadata": {},
   "outputs": [
    {
     "data": {
      "image/png": "[encoded data removed]",
      "text/plain": [
       "<matplotlib.figure.Figure at 0x115d46898>"
      ]
     },
     "metadata": {},
     "output_type": "display_data"
    }
   ],
   "source": [
    "# Education vs Self Reported use\n",
    "Table_Round123_Wide.hist('b9_education_nonan', group='Selfrptpct_2', side_by_side=True)"
   ]
  },
  {
   "cell_type": "code",
   "execution_count": 48,
   "metadata": {},
   "outputs": [
    {
     "data": {
      "image/png": "[encoded data removed]",
      "text/plain": [
       "<matplotlib.figure.Figure at 0x1167c4320>"
      ]
     },
     "metadata": {},
     "output_type": "display_data"
    }
   ],
   "source": [
    "# Durable Good Index vs Self Reported Use\n",
    "Table_Round123_Wide.hist('durable_nonan',\n",
    "                         group='Selfrptpct_2', \n",
    "                         side_by_side=True, \n",
    "                         bins=7, \n",
    "                         normed=False)"
   ]
  },
  {
   "cell_type": "code",
   "execution_count": 49,
   "metadata": {},
   "outputs": [
    {
     "name": "stdout",
     "output_type": "stream",
     "text": [
      "Selfrptpct_2 | count\n",
      "0            | 207\n",
      "100          | 479\n"
     ]
    },
    {
     "data": {
      "image/png": "[encoded data removed]",
      "text/plain": [
       "<matplotlib.figure.Figure at 0x1108f69e8>"
      ]
     },
     "metadata": {},
     "output_type": "display_data"
    }
   ],
   "source": [
    "# What if we restrict it to the high uptake arms - 5, 6, 7\n",
    "print(Table_Round123_Wide.where('treatment_arm',are.above(4)).group('Selfrptpct_2'))\n",
    "Table_Round123_Wide.where('treatment_arm',are.above(4)).hist('b9_education_nonan',\n",
    "                                                             group='Selfrptpct_2', side_by_side=True, )"
   ]
  },
  {
   "cell_type": "markdown",
   "metadata": {},
   "source": [
    "## Question 3.3 - discuss the previous histograms, write a paragraph\n",
    "- Are there any patterns to notice that these background baseline variables appear to explain who is using WG?\n",
    "- What is another way to test these interactions?"
   ]
  },
  {
   "cell_type": "code",
   "execution_count": null,
   "metadata": {
    "collapsed": true
   },
   "outputs": [],
   "source": []
  }
 ],
 "metadata": {
  "kernelspec": {
   "display_name": "Python 3",
   "language": "python",
   "name": "python3"
  },
  "language_info": {
   "codemirror_mode": {
    "name": "ipython",
    "version": 3
   },
   "file_extension": ".py",
   "mimetype": "text/x-python",
   "name": "python",
   "nbconvert_exporter": "python",
   "pygments_lexer": "ipython3",
   "version": "3.6.1"
  }
 },
 "nbformat": 4,
 "nbformat_minor": 2
}
