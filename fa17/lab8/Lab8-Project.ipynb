{
 "cells": [
  {
   "cell_type": "markdown",
   "metadata": {},
   "source": [
    "***  This is a blank lab notebook that has the basics for importing the main datasets we have used in the class ***\n",
    "\n",
    "*** Go back through the labs to  get ideas for what you want to look at ***\n",
    "\n",
    "** Final project should have: ( at least) **\n",
    "\n",
    "1) Two hypotheses  and hypotheses tests\n",
    "\n",
    "2) Two graphs\n",
    "\n",
    "3) Two data tables\n",
    "\n",
    "*** you won't need all of these datasets - so comment out the ones you will not use***\n"
   ]
  },
  {
   "cell_type": "code",
   "execution_count": null,
   "metadata": {},
   "outputs": [],
   "source": [
    "# run this cell - obligatory imports in every file\n",
    "from datascience import *\n",
    "import pandas as pd\n",
    "from pandas import read_stata\n",
    "import numpy as np\n",
    "%matplotlib inline\n",
    "import matplotlib.pyplot as plt\n",
    "plt.style.use('fivethirtyeight')\n"
   ]
  },
  {
   "cell_type": "code",
   "execution_count": null,
   "metadata": {},
   "outputs": [],
   "source": [
    "#BWM Child Dataset\n",
    "BWM_child = pd.DataFrame(pd.read_stata('BWM_child_EVDvars_Data8.dta'))\n",
    "BWM_child_table= Table.from_df(BWM_child)\n",
    "#list(BWM_child_table)\n",
    "#BWM_child_table"
   ]
  },
  {
   "cell_type": "code",
   "execution_count": null,
   "metadata": {
    "collapsed": true
   },
   "outputs": [],
   "source": [
    "#BWM HH Dataset\n",
    "BWM_Household = pd.DataFrame(pd.read_stata('BWM_HH_EVDvars_Data8.dta'))\n",
    "BWM_Household_table= Table.from_df(BWM_Household)\n",
    "#BWM_Household_table\n",
    "#list(BWM_Household_table)"
   ]
  },
  {
   "cell_type": "code",
   "execution_count": null,
   "metadata": {
    "collapsed": true
   },
   "outputs": [],
   "source": [
    "# Dataset for water quality testing at springs\n",
    "# From the BiWeekly Monitoring study \n",
    "# The most important variables will be trt_07, and bwm_round and ecmpn1 and tcmpn1\n",
    "BWM_WQ_s = pd.DataFrame(pd.read_stata('WQ_sp_forData8.dta'))\n",
    "# make a datascience table\n",
    "BWM_WQ_spring = Table.from_df(BWM_WQ_s)\n",
    "#BWM_WQ_spring"
   ]
  },
  {
   "cell_type": "code",
   "execution_count": null,
   "metadata": {
    "collapsed": true
   },
   "outputs": [],
   "source": [
    "# Dataset for water quality testing at households\n",
    "# From the BiWeekly Monitoring study \n",
    "BWM_WQ_hh = pd.DataFrame(pd.read_stata('WQ_hh_forData8.dta'))\n",
    "BWM_WQ_hhtable = Table.from_df(BWM_WQ_hh)\n",
    "#BWM_WQ_hhtable"
   ]
  },
  {
   "cell_type": "code",
   "execution_count": null,
   "metadata": {
    "collapsed": true
   },
   "outputs": [],
   "source": [
    "# WGP - full dataset 3 rounds \n",
    "WGP3rds_df = pd.DataFrame(pd.read_stata('WGP_3rounds_Data8.dta'))\n",
    "WGP3rds_table= Table.from_df(WGP3rds_df)\n",
    "#WGP3rds_table"
   ]
  },
  {
   "cell_type": "code",
   "execution_count": null,
   "metadata": {},
   "outputs": [],
   "source": [
    "# WGP Wide 123 Dataset saved from last lab\n",
    "WGP_Wide_123 = pd.DataFrame(pd.read_csv('WGP_wide_123.csv'))\n",
    "WGP_Wide_123_Table=Table.from_df(WGP_Wide_123)\n",
    "#WGP_Wide_123_Table"
   ]
  },
  {
   "cell_type": "code",
   "execution_count": null,
   "metadata": {
    "collapsed": true
   },
   "outputs": [],
   "source": [
    "#springsGPS = 'WGPgps_forData8.csv'\n",
    "#springsGPS= pd.read_csv('WGPgps_forData8.csv')\n",
    "\n",
    "# Take a look at the table\n",
    "#springsGPS"
   ]
  },
  {
   "cell_type": "code",
   "execution_count": null,
   "metadata": {
    "collapsed": true
   },
   "outputs": [],
   "source": []
  },
  {
   "cell_type": "code",
   "execution_count": null,
   "metadata": {
    "collapsed": true
   },
   "outputs": [],
   "source": []
  },
  {
   "cell_type": "code",
   "execution_count": null,
   "metadata": {
    "collapsed": true
   },
   "outputs": [],
   "source": []
  },
  {
   "cell_type": "code",
   "execution_count": null,
   "metadata": {
    "collapsed": true
   },
   "outputs": [],
   "source": []
  },
  {
   "cell_type": "code",
   "execution_count": null,
   "metadata": {},
   "outputs": [],
   "source": []
  },
  {
   "cell_type": "code",
   "execution_count": null,
   "metadata": {},
   "outputs": [],
   "source": []
  },
  {
   "cell_type": "code",
   "execution_count": null,
   "metadata": {
    "collapsed": true
   },
   "outputs": [],
   "source": []
  }
 ],
 "metadata": {
  "kernelspec": {
   "display_name": "Python 3",
   "language": "python",
   "name": "python3"
  },
  "language_info": {
   "codemirror_mode": {
    "name": "ipython",
    "version": 3
   },
   "file_extension": ".py",
   "mimetype": "text/x-python",
   "name": "python",
   "nbconvert_exporter": "python",
   "pygments_lexer": "ipython3",
   "version": "3.6.1"
  }
 },
 "nbformat": 4,
 "nbformat_minor": 2
}
