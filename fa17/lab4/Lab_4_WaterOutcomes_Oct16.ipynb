{
 "cells": [
  {
   "cell_type": "markdown",
   "metadata": {},
   "source": [
    "## Lab 4: Microbiology (E. coli indicator) Data and Chlorine measurement data\n",
    "The purpose of the first aprt this lab will be to look at the data coming from the microbiology tests and to integrate that into the spring treatment arms to see whether there has been an improvement in water quality with spring protection. This is from a subset of the project in the Bi-Weekly monitoring project.  The Bi-Weekly monitoring project visited the households every two weeks over a period of 16 visits.  \n",
    "\n",
    "The second part will continue to look at the Water Guard use in the Water Guard Promotion study. We have already looked at the baseline, but now we can look at the 3week and 3 month follow up studies.  We have two outcome variables to look at: self-reproted use and use validated by the chlorine reagent and meter.  \n",
    "\n",
    "## Please remember to write more, to explain the obvious, to elaborate on any observations\n",
    "## Please annotate your code when you write in python\n",
    "### You can suppress the big data tables and variable lists when you submit the homework"
   ]
  },
  {
   "cell_type": "code",
   "execution_count": null,
   "metadata": {
    "collapsed": true
   },
   "outputs": [],
   "source": [
    "from datascience import *\n",
    "import pandas as pd\n",
    "from pandas import read_stata\n",
    "import numpy as np\n",
    "import matplotlib.pyplot as plt\n",
    "%matplotlib inline\n",
    "plt.style.use('fivethirtyeight')"
   ]
  },
  {
   "cell_type": "markdown",
   "metadata": {},
   "source": [
    "##  We will start by looking at water quality for the samples collected at the springs"
   ]
  },
  {
   "cell_type": "code",
   "execution_count": null,
   "metadata": {},
   "outputs": [],
   "source": [
    "# read in stata data set using pandas ( pd) to dataframe\n",
    "# This is the dataset for water quality testing at springs\n",
    "# From the BiWeekly Monitoring study \n",
    "# The most important variables will be trt_07, and bwm_round and ecmpn1 and tcmpn1\n",
    "BWM_WQ_s = pd.DataFrame(pd.read_stata('WQ_sp_forData8.dta'))\n",
    "# make a datascience table\n",
    "BWM_WQ_spring = Table.from_df(BWM_WQ_s)\n",
    "# make log10 transforms of E coli numbers ( adding columns)\n",
    "BWM_WQ_spring = BWM_WQ_spring.with_column('log10ecmpn1',BWM_WQ_spring.apply(np.log10,'ecmpn1'))\n",
    "BWM_WQ_spring = BWM_WQ_spring.with_column('log10tcmpn1',BWM_WQ_spring.apply(np.log10,'tcmpn1'))\n",
    "BWM_WQ_spring"
   ]
  },
  {
   "cell_type": "code",
   "execution_count": null,
   "metadata": {},
   "outputs": [],
   "source": [
    "BWM_WQ_spring.group(\"trt_07\")"
   ]
  },
  {
   "cell_type": "markdown",
   "metadata": {},
   "source": [
    "## Let's start with Total Coliforms\n",
    "##  Lets go through and look at the code line by line\n",
    "## We will calculate a statistic for each of the four cells\n",
    " - Treament - Before\n",
    " - Control - Before \n",
    " - Treatment - After\n",
    " - Control - After\n",
    "\n",
    "##  The \"trt_07\" variable says whether the spring was assigned for treatment\n",
    "##  The spring protection happened after round 5, denoted by \"bwm_round\""
   ]
  },
  {
   "cell_type": "code",
   "execution_count": null,
   "metadata": {
    "collapsed": true
   },
   "outputs": [],
   "source": [
    "# save a variable for the mean of Treatment Before \n",
    "trtbeforetc=BWM_WQ_spring.where('bwm_round',are.below(6)).where('trt_07',1).column('log10tcmpn1').mean()"
   ]
  },
  {
   "cell_type": "code",
   "execution_count": null,
   "metadata": {
    "collapsed": true
   },
   "outputs": [],
   "source": [
    "# save a variable for the mean of Control Before \n",
    "cntrlbeforetc=BWM_WQ_spring.where('bwm_round',are.below(6)).where('trt_07',2).column('log10tcmpn1').mean()"
   ]
  },
  {
   "cell_type": "code",
   "execution_count": null,
   "metadata": {
    "collapsed": true
   },
   "outputs": [],
   "source": [
    "# save a variable for the mean of Treatment After \n",
    "trtaftertc=BWM_WQ_spring.where('bwm_round',are.above(5)).where('trt_07',1).column('log10tcmpn1').mean()"
   ]
  },
  {
   "cell_type": "code",
   "execution_count": null,
   "metadata": {
    "collapsed": true
   },
   "outputs": [],
   "source": [
    "# save a variable for the mean of Control After\n",
    "cntrlaftertc=BWM_WQ_spring.where('bwm_round',are.above(5)).where('trt_07',2).column('log10tcmpn1').mean()"
   ]
  },
  {
   "cell_type": "code",
   "execution_count": null,
   "metadata": {},
   "outputs": [],
   "source": [
    "# make a table with the data from the previous 4 cells\n",
    "Table().with_columns('Group',['Treatment','Control'],'Before',[trtbeforetc,cntrlbeforetc],'After',[trtaftertc,cntrlaftertc])"
   ]
  },
  {
   "cell_type": "code",
   "execution_count": null,
   "metadata": {},
   "outputs": [],
   "source": [
    "print(\"Total Coliforms MPN / 100ml \")\n",
    "Table().with_columns('Group',['Treatment','Control'],'Before',[trtbeforetc,cntrlbeforetc],'After',[trtaftertc,cntrlaftertc]).barh(0)"
   ]
  },
  {
   "cell_type": "markdown",
   "metadata": {},
   "source": [
    "## Let's repeat this with E coli \n",
    "## formally Log10(E coli most probable number) / 100mL of water"
   ]
  },
  {
   "cell_type": "code",
   "execution_count": null,
   "metadata": {},
   "outputs": [],
   "source": [
    "trtbefore=BWM_WQ_spring.where('bwm_round',are.below(6)).where('trt_07',1).column('log10ecmpn1').mean()\n",
    "cntrlbefore=BWM_WQ_spring.where('bwm_round',are.below(6)).where('trt_07',2).column('log10ecmpn1').mean()\n",
    "trtafter=BWM_WQ_spring.where('bwm_round',are.above(5)).where('trt_07',1).column('log10ecmpn1').mean()\n",
    "cntrlafter=BWM_WQ_spring.where('bwm_round',are.above(5)).where('trt_07',2).column('log10ecmpn1').mean()\n",
    "Table().with_columns('Group',['Treatment','Control'],'Before',[trtbefore,cntrlbefore],'After',[trtafter,cntrlafter])"
   ]
  },
  {
   "cell_type": "code",
   "execution_count": null,
   "metadata": {},
   "outputs": [],
   "source": [
    "print(\"E Coli MPN / 100ml \")\n",
    "Table().with_columns('Group',['Treatment','Control'],'Before',[trtbefore,cntrlbefore],'After',[trtafter,cntrlafter]).barh(0)"
   ]
  },
  {
   "cell_type": "markdown",
   "metadata": {},
   "source": [
    "## Question 1.1 Describe this table\n",
    " - Write a whole paragraph in the following cell about the preceeding table and graph\n",
    " - Describe how this relates to our hypothesis test for the overall study\n",
    " - How would you test a hypothesis based on this data?\n",
    " - What additional steps would you need to take?"
   ]
  },
  {
   "cell_type": "markdown",
   "metadata": {},
   "source": [
    "#Delete this and answer here"
   ]
  },
  {
   "cell_type": "markdown",
   "metadata": {},
   "source": [
    "## We can also look at the raw numbers ( not log-transformed)  for E Coli MPN"
   ]
  },
  {
   "cell_type": "code",
   "execution_count": null,
   "metadata": {},
   "outputs": [],
   "source": [
    "BWM_WQ_spring.where('bwm_round',are.below(6)).where('trt_07',1).column('ecmpn1').mean()"
   ]
  },
  {
   "cell_type": "code",
   "execution_count": null,
   "metadata": {},
   "outputs": [],
   "source": [
    "BWM_WQ_spring.where('bwm_round',are.below(6)).where('trt_07',2).column('ecmpn1').mean()"
   ]
  },
  {
   "cell_type": "code",
   "execution_count": null,
   "metadata": {},
   "outputs": [],
   "source": [
    "BWM_WQ_spring.where('bwm_round',are.above(5)).where('trt_07',1).column('ecmpn1').mean()"
   ]
  },
  {
   "cell_type": "code",
   "execution_count": null,
   "metadata": {},
   "outputs": [],
   "source": [
    "BWM_WQ_spring.where('bwm_round',are.above(5)).where('trt_07',2).column('ecmpn1').mean()"
   ]
  },
  {
   "cell_type": "code",
   "execution_count": null,
   "metadata": {},
   "outputs": [],
   "source": [
    "Table().with_columns('Group',['Treatment','Control'],'Before',[189.34483,218.30383],'After',[105.42835,183.0191]).barh(0)"
   ]
  },
  {
   "cell_type": "markdown",
   "metadata": {
    "collapsed": true
   },
   "source": [
    "## Now lets redo the same tables for samples collected at Households"
   ]
  },
  {
   "cell_type": "code",
   "execution_count": null,
   "metadata": {},
   "outputs": [],
   "source": [
    "BWM_WQ_hh = pd.DataFrame(pd.read_stata('WQ_hh_forData8.dta'))\n",
    "BWM_WQ_hhtable = Table.from_df(BWM_WQ_hh)\n",
    "BWM_WQ_hhtable = BWM_WQ_hhtable.with_column('log10ecmpn1',BWM_WQ_hhtable.apply(np.log10,'ecmpn1'))\n",
    "BWM_WQ_hhtable = BWM_WQ_hhtable.with_column('log10tcmpn1',BWM_WQ_hhtable.apply(np.log10,'tcmpn1'))\n",
    "BWM_WQ_hhtable"
   ]
  },
  {
   "cell_type": "code",
   "execution_count": null,
   "metadata": {},
   "outputs": [],
   "source": [
    "trtbeforehh=BWM_WQ_hhtable.where('bwm_round',are.below(6)).where('trt_07',1).column('log10ecmpn1').mean()\n",
    "cntrlbeforehh=BWM_WQ_hhtable.where('bwm_round',are.below(6)).where('trt_07',2).column('log10ecmpn1').mean()\n",
    "trtafterhh=BWM_WQ_hhtable.where('bwm_round',are.above(5)).where('trt_07',1).column('log10ecmpn1').mean()\n",
    "cntrlafterhh=BWM_WQ_hhtable.where('bwm_round',are.above(5)).where('trt_07',2).column('log10ecmpn1').mean()\n",
    "HHEcoli=Table().with_columns('Group',['Treatment','Control'],'Before',[trtbeforehh,cntrlbeforehh],'After',[trtafterhh,cntrlafterhh])\n",
    "HHEcoli"
   ]
  },
  {
   "cell_type": "code",
   "execution_count": null,
   "metadata": {},
   "outputs": [],
   "source": [
    "Table().with_columns('Group',['Treatment','Control'],'Before',[trtbeforehh,cntrlbeforehh],'After',[trtafterhh,cntrlafterhh]).barh(0)"
   ]
  },
  {
   "cell_type": "markdown",
   "metadata": {},
   "source": [
    "## Question 1.2 Describe this table for households\n",
    " - Write a whole paragraph in the following cell about the preceeding table and graph for households\n",
    " - Describe how this relates to our hypothesis test for the overall study\n"
   ]
  },
  {
   "cell_type": "markdown",
   "metadata": {},
   "source": [
    "#Delete this and answer here"
   ]
  },
  {
   "cell_type": "markdown",
   "metadata": {},
   "source": [
    " ## Question 1.3 Compare Springs to Households\n",
    " - How is this data and finding different from the springs data and findings?\n",
    " - How might this relate to project on promoting chlorine use?"
   ]
  },
  {
   "cell_type": "markdown",
   "metadata": {},
   "source": [
    "#Delete this and answer here"
   ]
  },
  {
   "cell_type": "markdown",
   "metadata": {},
   "source": [
    "## Moving to Chlorine Data from the Water Guard Promotion study"
   ]
  },
  {
   "cell_type": "code",
   "execution_count": null,
   "metadata": {},
   "outputs": [],
   "source": [
    "# Lets take a look at the chlorine data from the WGP dataset\n",
    "# We have looked at Baseline Study already, now lets look at follow up rounds\n",
    "# Round 1 = Baseline, Round 2 = 3week followup,  Round 3 = 3 month follow-up\n",
    "WGP_3rnds = pd.DataFrame(pd.read_stata('WGP_3rounds_Data8.dta'))\n",
    "WGP_3rnds_tbl = Table.from_df(WGP_3rnds)\n",
    "WGP_3rnds_tbl"
   ]
  },
  {
   "cell_type": "code",
   "execution_count": null,
   "metadata": {},
   "outputs": [],
   "source": [
    "# variables names - toggle this on and off as needed?\n",
    "list(WGP_3rnds_tbl)\n",
    "# Important to note that many variable names change between rounds \n",
    "# The important chlorine variables change between rounds 2 and 3 as noted below"
   ]
  },
  {
   "cell_type": "code",
   "execution_count": null,
   "metadata": {},
   "outputs": [],
   "source": [
    "# 3 separate survey visits indexed  by round variables\n",
    "WGP_3rnds_tbl.group('round')"
   ]
  },
  {
   "cell_type": "code",
   "execution_count": null,
   "metadata": {},
   "outputs": [],
   "source": [
    "# Make a datascience table for Round 2\n",
    "WGP_rnd2 = WGP_3rnds_tbl.where('round', 2)"
   ]
  },
  {
   "cell_type": "code",
   "execution_count": null,
   "metadata": {
    "collapsed": true
   },
   "outputs": [],
   "source": [
    "# make a pandas dataframe df for Round 2\n",
    "WGP_rnd2df= WGP_3rnds.where(WGP_3rnds['round'] ==2)"
   ]
  },
  {
   "cell_type": "code",
   "execution_count": null,
   "metadata": {},
   "outputs": [],
   "source": [
    "# chlorine meter readings\n",
    "# Using a Numpy array to drop the missing values \"nan\"\n",
    "meter_readings = WGP_rnd2['c12_chlorine_meter_reading']\n",
    "meter_readings = meter_readings[~np.isnan(meter_readings)]\n",
    "plt.hist(meter_readings, bins=[0, 0.1, 0.2, 0.3])"
   ]
  },
  {
   "cell_type": "code",
   "execution_count": null,
   "metadata": {},
   "outputs": [],
   "source": [
    "# Pandas method\n",
    "# Now lets look at the measured chlorine in drinking water sample\n",
    "# Based on 'c12_chlorine_meter_reading'\n",
    "# this is a variable for finding a positive result with the chlorine meter\n",
    "# the study used a threshold of 0.2 for the chlorine meter or if the water was visibly pink, and had a value greater than 0.1 on the colorimeter reading\n",
    "C12n = pd.crosstab(index=WGP_rnd2df[\"c12n21pnk\"], \n",
    "                            columns=WGP_rnd2df[\"treatment_arm\"],\n",
    "                             margins=True)   # Include row and column totals\n",
    "C12n/C12n.loc[\"All\"]\n"
   ]
  },
  {
   "cell_type": "code",
   "execution_count": null,
   "metadata": {},
   "outputs": [],
   "source": [
    "# Lets look at self reported WG use... using the variable 'c6_current_water_treated_wg'\n",
    "# C6n is a variable that is 1, when C6 is 1 and 0 otherwise\n",
    "# this can gives us the percent of HH who reported using WG\n",
    "C6n = pd.crosstab(index=WGP_rnd2df[\"c6n\"], \n",
    "                            columns=WGP_rnd2df[\"treatment_arm\"],\n",
    "                             margins=True)   # Include row and column totals\n",
    "print ( 'Self Reported WG Use')\n",
    "C6n/C6n.loc[\"All\"]\n"
   ]
  },
  {
   "cell_type": "code",
   "execution_count": null,
   "metadata": {},
   "outputs": [],
   "source": [
    "#  Let's try this using the datascience tables method\n",
    "# This will display for raw numbers of HH in the survey\n",
    "smallerT=WGP_rnd2.select(\"treatment_arm\",\"c12n21pnk\")\n",
    "#smallerT.pivot(0,1)\n",
    "pivotvldcl= smallerT.pivot(0,1).where(\"c12n21pnk\"!=\"nan\")\n",
    "pivotvldcl"
   ]
  },
  {
   "cell_type": "code",
   "execution_count": null,
   "metadata": {
    "scrolled": true
   },
   "outputs": [],
   "source": [
    "# Now we can make this into a percents table\n",
    "# using percents to format as percents ( rounding to 2 decimal places)\n",
    "# and dividing by the column totals\n",
    "\n",
    "def percents(array_x):\n",
    "    return np.round( (array_x/sum(array_x))*100, 2)\n",
    "\n",
    "crosspct=pivotvldcl.select(0).with_columns(\n",
    "        \"Arm1\",percents(pivotvldcl.column(1)),\n",
    "        \"Arm2\",percents(pivotvldcl.column(2)),\n",
    "        \"Arm3\",percents(pivotvldcl.column(3)),\n",
    "        \"Arm4\",percents(pivotvldcl.column(4)),\n",
    "        \"Arm5\",percents(pivotvldcl.column(5)),\n",
    "        \"Arm6\",percents(pivotvldcl.column(6)),\n",
    "        \"Arm7\",percents(pivotvldcl.column(7)))\n",
    "\n",
    "crosspct"
   ]
  },
  {
   "cell_type": "markdown",
   "metadata": {},
   "source": [
    "## Question 2.1 - Data Analsis\n",
    "## Write a paragraph to describe the findings from this table\n"
   ]
  },
  {
   "cell_type": "markdown",
   "metadata": {},
   "source": [
    "## Question 2.1 - Compare / Contrast Table for Self_Reported for Validated\n"
   ]
  },
  {
   "cell_type": "markdown",
   "metadata": {},
   "source": [
    "## Question 2.1 - Make a table with the percent difference ( self_reported-validated)/self_reported"
   ]
  },
  {
   "cell_type": "code",
   "execution_count": null,
   "metadata": {},
   "outputs": [],
   "source": [
    "#Here's an example of what I am looking for  \n",
    "#Control Group Pecent difference\n",
    "(0.059-0.035)/0.059"
   ]
  },
  {
   "cell_type": "code",
   "execution_count": null,
   "metadata": {},
   "outputs": [],
   "source": [
    "# Here's another exapmple\n",
    "# Overall Percent difference\n",
    "(0.45-0.28)/0.45\n",
    "# Now make a table for all arms"
   ]
  },
  {
   "cell_type": "markdown",
   "metadata": {
    "collapsed": true
   },
   "source": [
    "## Question 3 -Redo the coding above but for Round  3\n",
    "##  Question 3.1  Make a table for self reported chlorine use (in Round 3 the self reported variable is 'c5n')\n"
   ]
  },
  {
   "cell_type": "code",
   "execution_count": null,
   "metadata": {
    "collapsed": true
   },
   "outputs": [],
   "source": []
  },
  {
   "cell_type": "code",
   "execution_count": null,
   "metadata": {
    "collapsed": true
   },
   "outputs": [],
   "source": []
  },
  {
   "cell_type": "markdown",
   "metadata": {},
   "source": [
    "## Question 3.2  Make a table for self reported chlorine use ( in Round 3 validated is 'c15npt2or1pnk')\n"
   ]
  },
  {
   "cell_type": "code",
   "execution_count": null,
   "metadata": {
    "collapsed": true
   },
   "outputs": [],
   "source": []
  },
  {
   "cell_type": "code",
   "execution_count": null,
   "metadata": {
    "collapsed": true
   },
   "outputs": [],
   "source": []
  },
  {
   "cell_type": "markdown",
   "metadata": {},
   "source": [
    "## Question 3.3  Describe and discuss these results. Compare to each other and compare Round 3 to Round 2\n"
   ]
  },
  {
   "cell_type": "code",
   "execution_count": null,
   "metadata": {
    "collapsed": true
   },
   "outputs": [],
   "source": []
  }
 ],
 "metadata": {
  "kernelspec": {
   "display_name": "Python 3",
   "language": "python",
   "name": "python3"
  },
  "language_info": {
   "codemirror_mode": {
    "name": "ipython",
    "version": 3
   },
   "file_extension": ".py",
   "mimetype": "text/x-python",
   "name": "python",
   "nbconvert_exporter": "python",
   "pygments_lexer": "ipython3",
   "version": "3.6.1"
  }
 },
 "nbformat": 4,
 "nbformat_minor": 2
}
